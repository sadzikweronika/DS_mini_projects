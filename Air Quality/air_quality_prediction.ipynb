{
 "cells": [
  {
   "cell_type": "markdown",
   "source": [
    "In this project I am gonna give attention to Data Analysis of data from different sensors in Cracow about air quality as well as predicting PM10 levels from sensor number 171 located near Lublańska street."
   ],
   "metadata": {
    "collapsed": false,
    "pycharm": {
     "name": "#%% md\n"
    }
   }
  },
  {
   "cell_type": "code",
   "execution_count": 24,
   "outputs": [],
   "source": [
    "import datetime\n",
    "import pandas as pd\n",
    "import numpy as np\n",
    "import matplotlib.pyplot as plt"
   ],
   "metadata": {
    "collapsed": false,
    "pycharm": {
     "name": "#%%\n"
    }
   }
  },
  {
   "cell_type": "markdown",
   "source": [
    "## Importing the data and quick look at it"
   ],
   "metadata": {
    "collapsed": false,
    "pycharm": {
     "name": "#%% md\n"
    }
   }
  },
  {
   "cell_type": "code",
   "execution_count": 2,
   "outputs": [
    {
     "data": {
      "text/plain": "               UTC time  3_temperature  3_humidity  3_pressure  3_pm1  3_pm25  \\\n0   2017-01-01T00:00:00            NaN         NaN         NaN    NaN     NaN   \n1   2017-01-01T01:00:00            NaN         NaN         NaN    NaN     NaN   \n2   2017-01-01T02:00:00            NaN         NaN         NaN    NaN     NaN   \n3   2017-01-01T03:00:00            NaN         NaN         NaN    NaN     NaN   \n4   2017-01-01T04:00:00            NaN         NaN         NaN    NaN     NaN   \n5   2017-01-01T05:00:00            NaN         NaN         NaN    NaN     NaN   \n6   2017-01-01T06:00:00            NaN         NaN         NaN    NaN     NaN   \n7   2017-01-01T07:00:00            NaN         NaN         NaN    NaN     NaN   \n8   2017-01-01T08:00:00            NaN         NaN         NaN    NaN     NaN   \n9   2017-01-01T09:00:00            NaN         NaN         NaN    NaN     NaN   \n10  2017-01-01T10:00:00            NaN         NaN         NaN    NaN     NaN   \n11  2017-01-01T11:00:00            NaN         NaN         NaN    NaN     NaN   \n12  2017-01-01T12:00:00            NaN         NaN         NaN    NaN     NaN   \n13  2017-01-01T13:00:00            NaN         NaN         NaN    NaN     NaN   \n14  2017-01-01T14:00:00            NaN         NaN         NaN    NaN     NaN   \n15  2017-01-01T15:00:00            NaN         NaN         NaN    NaN     NaN   \n16  2017-01-01T16:00:00            NaN         NaN         NaN    NaN     NaN   \n17  2017-01-01T17:00:00            NaN         NaN         NaN    NaN     NaN   \n18  2017-01-01T18:00:00            NaN         NaN         NaN    NaN     NaN   \n19  2017-01-01T19:00:00            NaN         NaN         NaN    NaN     NaN   \n20  2017-01-01T20:00:00            NaN         NaN         NaN    NaN     NaN   \n21  2017-01-01T21:00:00            NaN         NaN         NaN    NaN     NaN   \n22  2017-01-01T22:00:00            NaN         NaN         NaN    NaN     NaN   \n23  2017-01-01T23:00:00            NaN         NaN         NaN    NaN     NaN   \n24  2017-01-02T00:00:00            NaN         NaN         NaN    NaN     NaN   \n25  2017-01-02T01:00:00            NaN         NaN         NaN    NaN     NaN   \n26  2017-01-02T02:00:00            NaN         NaN         NaN    NaN     NaN   \n27  2017-01-02T03:00:00            NaN         NaN         NaN    NaN     NaN   \n28  2017-01-02T04:00:00            NaN         NaN         NaN    NaN     NaN   \n29  2017-01-02T05:00:00            NaN         NaN         NaN    NaN     NaN   \n\n    3_pm10  140_temperature  140_humidity  140_pressure  ...  857_pressure  \\\n0      NaN              NaN           NaN           NaN  ...           NaN   \n1      NaN              NaN           NaN           NaN  ...           NaN   \n2      NaN              NaN           NaN           NaN  ...           NaN   \n3      NaN              NaN           NaN           NaN  ...           NaN   \n4      NaN              NaN           NaN           NaN  ...           NaN   \n5      NaN              NaN           NaN           NaN  ...           NaN   \n6      NaN              NaN           NaN           NaN  ...           NaN   \n7      NaN              NaN           NaN           NaN  ...           NaN   \n8      NaN              NaN           NaN           NaN  ...           NaN   \n9      NaN              NaN           NaN           NaN  ...           NaN   \n10     NaN              NaN           NaN           NaN  ...           NaN   \n11     NaN              NaN           NaN           NaN  ...           NaN   \n12     NaN              NaN           NaN           NaN  ...           NaN   \n13     NaN              NaN           NaN           NaN  ...           NaN   \n14     NaN              NaN           NaN           NaN  ...           NaN   \n15     NaN              NaN           NaN           NaN  ...           NaN   \n16     NaN              NaN           NaN           NaN  ...           NaN   \n17     NaN              NaN           NaN           NaN  ...           NaN   \n18     NaN              NaN           NaN           NaN  ...           NaN   \n19     NaN              NaN           NaN           NaN  ...           NaN   \n20     NaN              NaN           NaN           NaN  ...           NaN   \n21     NaN              NaN           NaN           NaN  ...           NaN   \n22     NaN              NaN           NaN           NaN  ...           NaN   \n23     NaN              NaN           NaN           NaN  ...           NaN   \n24     NaN              NaN           NaN           NaN  ...           NaN   \n25     NaN              NaN           NaN           NaN  ...           NaN   \n26     NaN              NaN           NaN           NaN  ...           NaN   \n27     NaN              NaN           NaN           NaN  ...           NaN   \n28     NaN              NaN           NaN           NaN  ...           NaN   \n29     NaN              NaN           NaN           NaN  ...           NaN   \n\n    857_pm1  857_pm25  857_pm10  895_temperature  895_humidity  895_pressure  \\\n0       NaN       NaN       NaN              NaN           NaN           NaN   \n1       NaN       NaN       NaN              NaN           NaN           NaN   \n2       NaN       NaN       NaN              NaN           NaN           NaN   \n3       NaN       NaN       NaN              NaN           NaN           NaN   \n4       NaN       NaN       NaN              NaN           NaN           NaN   \n5       NaN       NaN       NaN              NaN           NaN           NaN   \n6       NaN       NaN       NaN              NaN           NaN           NaN   \n7       NaN       NaN       NaN              NaN           NaN           NaN   \n8       NaN       NaN       NaN              NaN           NaN           NaN   \n9       NaN       NaN       NaN              NaN           NaN           NaN   \n10      NaN       NaN       NaN              NaN           NaN           NaN   \n11      NaN       NaN       NaN              NaN           NaN           NaN   \n12      NaN       NaN       NaN              NaN           NaN           NaN   \n13      NaN       NaN       NaN              NaN           NaN           NaN   \n14      NaN       NaN       NaN              NaN           NaN           NaN   \n15      NaN       NaN       NaN              NaN           NaN           NaN   \n16      NaN       NaN       NaN              NaN           NaN           NaN   \n17      NaN       NaN       NaN              NaN           NaN           NaN   \n18      NaN       NaN       NaN              NaN           NaN           NaN   \n19      NaN       NaN       NaN              NaN           NaN           NaN   \n20      NaN       NaN       NaN              NaN           NaN           NaN   \n21      NaN       NaN       NaN              NaN           NaN           NaN   \n22      NaN       NaN       NaN              NaN           NaN           NaN   \n23      NaN       NaN       NaN              NaN           NaN           NaN   \n24      NaN       NaN       NaN              NaN           NaN           NaN   \n25      NaN       NaN       NaN              NaN           NaN           NaN   \n26      NaN       NaN       NaN              NaN           NaN           NaN   \n27      NaN       NaN       NaN              NaN           NaN           NaN   \n28      NaN       NaN       NaN              NaN           NaN           NaN   \n29      NaN       NaN       NaN              NaN           NaN           NaN   \n\n    895_pm1  895_pm25  895_pm10  \n0       NaN       NaN       NaN  \n1       NaN       NaN       NaN  \n2       NaN       NaN       NaN  \n3       NaN       NaN       NaN  \n4       NaN       NaN       NaN  \n5       NaN       NaN       NaN  \n6       NaN       NaN       NaN  \n7       NaN       NaN       NaN  \n8       NaN       NaN       NaN  \n9       NaN       NaN       NaN  \n10      NaN       NaN       NaN  \n11      NaN       NaN       NaN  \n12      NaN       NaN       NaN  \n13      NaN       NaN       NaN  \n14      NaN       NaN       NaN  \n15      NaN       NaN       NaN  \n16      NaN       NaN       NaN  \n17      NaN       NaN       NaN  \n18      NaN       NaN       NaN  \n19      NaN       NaN       NaN  \n20      NaN       NaN       NaN  \n21      NaN       NaN       NaN  \n22      NaN       NaN       NaN  \n23      NaN       NaN       NaN  \n24      NaN       NaN       NaN  \n25      NaN       NaN       NaN  \n26      NaN       NaN       NaN  \n27      NaN       NaN       NaN  \n28      NaN       NaN       NaN  \n29      NaN       NaN       NaN  \n\n[30 rows x 337 columns]",
      "text/html": "<div>\n<style scoped>\n    .dataframe tbody tr th:only-of-type {\n        vertical-align: middle;\n    }\n\n    .dataframe tbody tr th {\n        vertical-align: top;\n    }\n\n    .dataframe thead th {\n        text-align: right;\n    }\n</style>\n<table border=\"1\" class=\"dataframe\">\n  <thead>\n    <tr style=\"text-align: right;\">\n      <th></th>\n      <th>UTC time</th>\n      <th>3_temperature</th>\n      <th>3_humidity</th>\n      <th>3_pressure</th>\n      <th>3_pm1</th>\n      <th>3_pm25</th>\n      <th>3_pm10</th>\n      <th>140_temperature</th>\n      <th>140_humidity</th>\n      <th>140_pressure</th>\n      <th>...</th>\n      <th>857_pressure</th>\n      <th>857_pm1</th>\n      <th>857_pm25</th>\n      <th>857_pm10</th>\n      <th>895_temperature</th>\n      <th>895_humidity</th>\n      <th>895_pressure</th>\n      <th>895_pm1</th>\n      <th>895_pm25</th>\n      <th>895_pm10</th>\n    </tr>\n  </thead>\n  <tbody>\n    <tr>\n      <th>0</th>\n      <td>2017-01-01T00:00:00</td>\n      <td>NaN</td>\n      <td>NaN</td>\n      <td>NaN</td>\n      <td>NaN</td>\n      <td>NaN</td>\n      <td>NaN</td>\n      <td>NaN</td>\n      <td>NaN</td>\n      <td>NaN</td>\n      <td>...</td>\n      <td>NaN</td>\n      <td>NaN</td>\n      <td>NaN</td>\n      <td>NaN</td>\n      <td>NaN</td>\n      <td>NaN</td>\n      <td>NaN</td>\n      <td>NaN</td>\n      <td>NaN</td>\n      <td>NaN</td>\n    </tr>\n    <tr>\n      <th>1</th>\n      <td>2017-01-01T01:00:00</td>\n      <td>NaN</td>\n      <td>NaN</td>\n      <td>NaN</td>\n      <td>NaN</td>\n      <td>NaN</td>\n      <td>NaN</td>\n      <td>NaN</td>\n      <td>NaN</td>\n      <td>NaN</td>\n      <td>...</td>\n      <td>NaN</td>\n      <td>NaN</td>\n      <td>NaN</td>\n      <td>NaN</td>\n      <td>NaN</td>\n      <td>NaN</td>\n      <td>NaN</td>\n      <td>NaN</td>\n      <td>NaN</td>\n      <td>NaN</td>\n    </tr>\n    <tr>\n      <th>2</th>\n      <td>2017-01-01T02:00:00</td>\n      <td>NaN</td>\n      <td>NaN</td>\n      <td>NaN</td>\n      <td>NaN</td>\n      <td>NaN</td>\n      <td>NaN</td>\n      <td>NaN</td>\n      <td>NaN</td>\n      <td>NaN</td>\n      <td>...</td>\n      <td>NaN</td>\n      <td>NaN</td>\n      <td>NaN</td>\n      <td>NaN</td>\n      <td>NaN</td>\n      <td>NaN</td>\n      <td>NaN</td>\n      <td>NaN</td>\n      <td>NaN</td>\n      <td>NaN</td>\n    </tr>\n    <tr>\n      <th>3</th>\n      <td>2017-01-01T03:00:00</td>\n      <td>NaN</td>\n      <td>NaN</td>\n      <td>NaN</td>\n      <td>NaN</td>\n      <td>NaN</td>\n      <td>NaN</td>\n      <td>NaN</td>\n      <td>NaN</td>\n      <td>NaN</td>\n      <td>...</td>\n      <td>NaN</td>\n      <td>NaN</td>\n      <td>NaN</td>\n      <td>NaN</td>\n      <td>NaN</td>\n      <td>NaN</td>\n      <td>NaN</td>\n      <td>NaN</td>\n      <td>NaN</td>\n      <td>NaN</td>\n    </tr>\n    <tr>\n      <th>4</th>\n      <td>2017-01-01T04:00:00</td>\n      <td>NaN</td>\n      <td>NaN</td>\n      <td>NaN</td>\n      <td>NaN</td>\n      <td>NaN</td>\n      <td>NaN</td>\n      <td>NaN</td>\n      <td>NaN</td>\n      <td>NaN</td>\n      <td>...</td>\n      <td>NaN</td>\n      <td>NaN</td>\n      <td>NaN</td>\n      <td>NaN</td>\n      <td>NaN</td>\n      <td>NaN</td>\n      <td>NaN</td>\n      <td>NaN</td>\n      <td>NaN</td>\n      <td>NaN</td>\n    </tr>\n    <tr>\n      <th>5</th>\n      <td>2017-01-01T05:00:00</td>\n      <td>NaN</td>\n      <td>NaN</td>\n      <td>NaN</td>\n      <td>NaN</td>\n      <td>NaN</td>\n      <td>NaN</td>\n      <td>NaN</td>\n      <td>NaN</td>\n      <td>NaN</td>\n      <td>...</td>\n      <td>NaN</td>\n      <td>NaN</td>\n      <td>NaN</td>\n      <td>NaN</td>\n      <td>NaN</td>\n      <td>NaN</td>\n      <td>NaN</td>\n      <td>NaN</td>\n      <td>NaN</td>\n      <td>NaN</td>\n    </tr>\n    <tr>\n      <th>6</th>\n      <td>2017-01-01T06:00:00</td>\n      <td>NaN</td>\n      <td>NaN</td>\n      <td>NaN</td>\n      <td>NaN</td>\n      <td>NaN</td>\n      <td>NaN</td>\n      <td>NaN</td>\n      <td>NaN</td>\n      <td>NaN</td>\n      <td>...</td>\n      <td>NaN</td>\n      <td>NaN</td>\n      <td>NaN</td>\n      <td>NaN</td>\n      <td>NaN</td>\n      <td>NaN</td>\n      <td>NaN</td>\n      <td>NaN</td>\n      <td>NaN</td>\n      <td>NaN</td>\n    </tr>\n    <tr>\n      <th>7</th>\n      <td>2017-01-01T07:00:00</td>\n      <td>NaN</td>\n      <td>NaN</td>\n      <td>NaN</td>\n      <td>NaN</td>\n      <td>NaN</td>\n      <td>NaN</td>\n      <td>NaN</td>\n      <td>NaN</td>\n      <td>NaN</td>\n      <td>...</td>\n      <td>NaN</td>\n      <td>NaN</td>\n      <td>NaN</td>\n      <td>NaN</td>\n      <td>NaN</td>\n      <td>NaN</td>\n      <td>NaN</td>\n      <td>NaN</td>\n      <td>NaN</td>\n      <td>NaN</td>\n    </tr>\n    <tr>\n      <th>8</th>\n      <td>2017-01-01T08:00:00</td>\n      <td>NaN</td>\n      <td>NaN</td>\n      <td>NaN</td>\n      <td>NaN</td>\n      <td>NaN</td>\n      <td>NaN</td>\n      <td>NaN</td>\n      <td>NaN</td>\n      <td>NaN</td>\n      <td>...</td>\n      <td>NaN</td>\n      <td>NaN</td>\n      <td>NaN</td>\n      <td>NaN</td>\n      <td>NaN</td>\n      <td>NaN</td>\n      <td>NaN</td>\n      <td>NaN</td>\n      <td>NaN</td>\n      <td>NaN</td>\n    </tr>\n    <tr>\n      <th>9</th>\n      <td>2017-01-01T09:00:00</td>\n      <td>NaN</td>\n      <td>NaN</td>\n      <td>NaN</td>\n      <td>NaN</td>\n      <td>NaN</td>\n      <td>NaN</td>\n      <td>NaN</td>\n      <td>NaN</td>\n      <td>NaN</td>\n      <td>...</td>\n      <td>NaN</td>\n      <td>NaN</td>\n      <td>NaN</td>\n      <td>NaN</td>\n      <td>NaN</td>\n      <td>NaN</td>\n      <td>NaN</td>\n      <td>NaN</td>\n      <td>NaN</td>\n      <td>NaN</td>\n    </tr>\n    <tr>\n      <th>10</th>\n      <td>2017-01-01T10:00:00</td>\n      <td>NaN</td>\n      <td>NaN</td>\n      <td>NaN</td>\n      <td>NaN</td>\n      <td>NaN</td>\n      <td>NaN</td>\n      <td>NaN</td>\n      <td>NaN</td>\n      <td>NaN</td>\n      <td>...</td>\n      <td>NaN</td>\n      <td>NaN</td>\n      <td>NaN</td>\n      <td>NaN</td>\n      <td>NaN</td>\n      <td>NaN</td>\n      <td>NaN</td>\n      <td>NaN</td>\n      <td>NaN</td>\n      <td>NaN</td>\n    </tr>\n    <tr>\n      <th>11</th>\n      <td>2017-01-01T11:00:00</td>\n      <td>NaN</td>\n      <td>NaN</td>\n      <td>NaN</td>\n      <td>NaN</td>\n      <td>NaN</td>\n      <td>NaN</td>\n      <td>NaN</td>\n      <td>NaN</td>\n      <td>NaN</td>\n      <td>...</td>\n      <td>NaN</td>\n      <td>NaN</td>\n      <td>NaN</td>\n      <td>NaN</td>\n      <td>NaN</td>\n      <td>NaN</td>\n      <td>NaN</td>\n      <td>NaN</td>\n      <td>NaN</td>\n      <td>NaN</td>\n    </tr>\n    <tr>\n      <th>12</th>\n      <td>2017-01-01T12:00:00</td>\n      <td>NaN</td>\n      <td>NaN</td>\n      <td>NaN</td>\n      <td>NaN</td>\n      <td>NaN</td>\n      <td>NaN</td>\n      <td>NaN</td>\n      <td>NaN</td>\n      <td>NaN</td>\n      <td>...</td>\n      <td>NaN</td>\n      <td>NaN</td>\n      <td>NaN</td>\n      <td>NaN</td>\n      <td>NaN</td>\n      <td>NaN</td>\n      <td>NaN</td>\n      <td>NaN</td>\n      <td>NaN</td>\n      <td>NaN</td>\n    </tr>\n    <tr>\n      <th>13</th>\n      <td>2017-01-01T13:00:00</td>\n      <td>NaN</td>\n      <td>NaN</td>\n      <td>NaN</td>\n      <td>NaN</td>\n      <td>NaN</td>\n      <td>NaN</td>\n      <td>NaN</td>\n      <td>NaN</td>\n      <td>NaN</td>\n      <td>...</td>\n      <td>NaN</td>\n      <td>NaN</td>\n      <td>NaN</td>\n      <td>NaN</td>\n      <td>NaN</td>\n      <td>NaN</td>\n      <td>NaN</td>\n      <td>NaN</td>\n      <td>NaN</td>\n      <td>NaN</td>\n    </tr>\n    <tr>\n      <th>14</th>\n      <td>2017-01-01T14:00:00</td>\n      <td>NaN</td>\n      <td>NaN</td>\n      <td>NaN</td>\n      <td>NaN</td>\n      <td>NaN</td>\n      <td>NaN</td>\n      <td>NaN</td>\n      <td>NaN</td>\n      <td>NaN</td>\n      <td>...</td>\n      <td>NaN</td>\n      <td>NaN</td>\n      <td>NaN</td>\n      <td>NaN</td>\n      <td>NaN</td>\n      <td>NaN</td>\n      <td>NaN</td>\n      <td>NaN</td>\n      <td>NaN</td>\n      <td>NaN</td>\n    </tr>\n    <tr>\n      <th>15</th>\n      <td>2017-01-01T15:00:00</td>\n      <td>NaN</td>\n      <td>NaN</td>\n      <td>NaN</td>\n      <td>NaN</td>\n      <td>NaN</td>\n      <td>NaN</td>\n      <td>NaN</td>\n      <td>NaN</td>\n      <td>NaN</td>\n      <td>...</td>\n      <td>NaN</td>\n      <td>NaN</td>\n      <td>NaN</td>\n      <td>NaN</td>\n      <td>NaN</td>\n      <td>NaN</td>\n      <td>NaN</td>\n      <td>NaN</td>\n      <td>NaN</td>\n      <td>NaN</td>\n    </tr>\n    <tr>\n      <th>16</th>\n      <td>2017-01-01T16:00:00</td>\n      <td>NaN</td>\n      <td>NaN</td>\n      <td>NaN</td>\n      <td>NaN</td>\n      <td>NaN</td>\n      <td>NaN</td>\n      <td>NaN</td>\n      <td>NaN</td>\n      <td>NaN</td>\n      <td>...</td>\n      <td>NaN</td>\n      <td>NaN</td>\n      <td>NaN</td>\n      <td>NaN</td>\n      <td>NaN</td>\n      <td>NaN</td>\n      <td>NaN</td>\n      <td>NaN</td>\n      <td>NaN</td>\n      <td>NaN</td>\n    </tr>\n    <tr>\n      <th>17</th>\n      <td>2017-01-01T17:00:00</td>\n      <td>NaN</td>\n      <td>NaN</td>\n      <td>NaN</td>\n      <td>NaN</td>\n      <td>NaN</td>\n      <td>NaN</td>\n      <td>NaN</td>\n      <td>NaN</td>\n      <td>NaN</td>\n      <td>...</td>\n      <td>NaN</td>\n      <td>NaN</td>\n      <td>NaN</td>\n      <td>NaN</td>\n      <td>NaN</td>\n      <td>NaN</td>\n      <td>NaN</td>\n      <td>NaN</td>\n      <td>NaN</td>\n      <td>NaN</td>\n    </tr>\n    <tr>\n      <th>18</th>\n      <td>2017-01-01T18:00:00</td>\n      <td>NaN</td>\n      <td>NaN</td>\n      <td>NaN</td>\n      <td>NaN</td>\n      <td>NaN</td>\n      <td>NaN</td>\n      <td>NaN</td>\n      <td>NaN</td>\n      <td>NaN</td>\n      <td>...</td>\n      <td>NaN</td>\n      <td>NaN</td>\n      <td>NaN</td>\n      <td>NaN</td>\n      <td>NaN</td>\n      <td>NaN</td>\n      <td>NaN</td>\n      <td>NaN</td>\n      <td>NaN</td>\n      <td>NaN</td>\n    </tr>\n    <tr>\n      <th>19</th>\n      <td>2017-01-01T19:00:00</td>\n      <td>NaN</td>\n      <td>NaN</td>\n      <td>NaN</td>\n      <td>NaN</td>\n      <td>NaN</td>\n      <td>NaN</td>\n      <td>NaN</td>\n      <td>NaN</td>\n      <td>NaN</td>\n      <td>...</td>\n      <td>NaN</td>\n      <td>NaN</td>\n      <td>NaN</td>\n      <td>NaN</td>\n      <td>NaN</td>\n      <td>NaN</td>\n      <td>NaN</td>\n      <td>NaN</td>\n      <td>NaN</td>\n      <td>NaN</td>\n    </tr>\n    <tr>\n      <th>20</th>\n      <td>2017-01-01T20:00:00</td>\n      <td>NaN</td>\n      <td>NaN</td>\n      <td>NaN</td>\n      <td>NaN</td>\n      <td>NaN</td>\n      <td>NaN</td>\n      <td>NaN</td>\n      <td>NaN</td>\n      <td>NaN</td>\n      <td>...</td>\n      <td>NaN</td>\n      <td>NaN</td>\n      <td>NaN</td>\n      <td>NaN</td>\n      <td>NaN</td>\n      <td>NaN</td>\n      <td>NaN</td>\n      <td>NaN</td>\n      <td>NaN</td>\n      <td>NaN</td>\n    </tr>\n    <tr>\n      <th>21</th>\n      <td>2017-01-01T21:00:00</td>\n      <td>NaN</td>\n      <td>NaN</td>\n      <td>NaN</td>\n      <td>NaN</td>\n      <td>NaN</td>\n      <td>NaN</td>\n      <td>NaN</td>\n      <td>NaN</td>\n      <td>NaN</td>\n      <td>...</td>\n      <td>NaN</td>\n      <td>NaN</td>\n      <td>NaN</td>\n      <td>NaN</td>\n      <td>NaN</td>\n      <td>NaN</td>\n      <td>NaN</td>\n      <td>NaN</td>\n      <td>NaN</td>\n      <td>NaN</td>\n    </tr>\n    <tr>\n      <th>22</th>\n      <td>2017-01-01T22:00:00</td>\n      <td>NaN</td>\n      <td>NaN</td>\n      <td>NaN</td>\n      <td>NaN</td>\n      <td>NaN</td>\n      <td>NaN</td>\n      <td>NaN</td>\n      <td>NaN</td>\n      <td>NaN</td>\n      <td>...</td>\n      <td>NaN</td>\n      <td>NaN</td>\n      <td>NaN</td>\n      <td>NaN</td>\n      <td>NaN</td>\n      <td>NaN</td>\n      <td>NaN</td>\n      <td>NaN</td>\n      <td>NaN</td>\n      <td>NaN</td>\n    </tr>\n    <tr>\n      <th>23</th>\n      <td>2017-01-01T23:00:00</td>\n      <td>NaN</td>\n      <td>NaN</td>\n      <td>NaN</td>\n      <td>NaN</td>\n      <td>NaN</td>\n      <td>NaN</td>\n      <td>NaN</td>\n      <td>NaN</td>\n      <td>NaN</td>\n      <td>...</td>\n      <td>NaN</td>\n      <td>NaN</td>\n      <td>NaN</td>\n      <td>NaN</td>\n      <td>NaN</td>\n      <td>NaN</td>\n      <td>NaN</td>\n      <td>NaN</td>\n      <td>NaN</td>\n      <td>NaN</td>\n    </tr>\n    <tr>\n      <th>24</th>\n      <td>2017-01-02T00:00:00</td>\n      <td>NaN</td>\n      <td>NaN</td>\n      <td>NaN</td>\n      <td>NaN</td>\n      <td>NaN</td>\n      <td>NaN</td>\n      <td>NaN</td>\n      <td>NaN</td>\n      <td>NaN</td>\n      <td>...</td>\n      <td>NaN</td>\n      <td>NaN</td>\n      <td>NaN</td>\n      <td>NaN</td>\n      <td>NaN</td>\n      <td>NaN</td>\n      <td>NaN</td>\n      <td>NaN</td>\n      <td>NaN</td>\n      <td>NaN</td>\n    </tr>\n    <tr>\n      <th>25</th>\n      <td>2017-01-02T01:00:00</td>\n      <td>NaN</td>\n      <td>NaN</td>\n      <td>NaN</td>\n      <td>NaN</td>\n      <td>NaN</td>\n      <td>NaN</td>\n      <td>NaN</td>\n      <td>NaN</td>\n      <td>NaN</td>\n      <td>...</td>\n      <td>NaN</td>\n      <td>NaN</td>\n      <td>NaN</td>\n      <td>NaN</td>\n      <td>NaN</td>\n      <td>NaN</td>\n      <td>NaN</td>\n      <td>NaN</td>\n      <td>NaN</td>\n      <td>NaN</td>\n    </tr>\n    <tr>\n      <th>26</th>\n      <td>2017-01-02T02:00:00</td>\n      <td>NaN</td>\n      <td>NaN</td>\n      <td>NaN</td>\n      <td>NaN</td>\n      <td>NaN</td>\n      <td>NaN</td>\n      <td>NaN</td>\n      <td>NaN</td>\n      <td>NaN</td>\n      <td>...</td>\n      <td>NaN</td>\n      <td>NaN</td>\n      <td>NaN</td>\n      <td>NaN</td>\n      <td>NaN</td>\n      <td>NaN</td>\n      <td>NaN</td>\n      <td>NaN</td>\n      <td>NaN</td>\n      <td>NaN</td>\n    </tr>\n    <tr>\n      <th>27</th>\n      <td>2017-01-02T03:00:00</td>\n      <td>NaN</td>\n      <td>NaN</td>\n      <td>NaN</td>\n      <td>NaN</td>\n      <td>NaN</td>\n      <td>NaN</td>\n      <td>NaN</td>\n      <td>NaN</td>\n      <td>NaN</td>\n      <td>...</td>\n      <td>NaN</td>\n      <td>NaN</td>\n      <td>NaN</td>\n      <td>NaN</td>\n      <td>NaN</td>\n      <td>NaN</td>\n      <td>NaN</td>\n      <td>NaN</td>\n      <td>NaN</td>\n      <td>NaN</td>\n    </tr>\n    <tr>\n      <th>28</th>\n      <td>2017-01-02T04:00:00</td>\n      <td>NaN</td>\n      <td>NaN</td>\n      <td>NaN</td>\n      <td>NaN</td>\n      <td>NaN</td>\n      <td>NaN</td>\n      <td>NaN</td>\n      <td>NaN</td>\n      <td>NaN</td>\n      <td>...</td>\n      <td>NaN</td>\n      <td>NaN</td>\n      <td>NaN</td>\n      <td>NaN</td>\n      <td>NaN</td>\n      <td>NaN</td>\n      <td>NaN</td>\n      <td>NaN</td>\n      <td>NaN</td>\n      <td>NaN</td>\n    </tr>\n    <tr>\n      <th>29</th>\n      <td>2017-01-02T05:00:00</td>\n      <td>NaN</td>\n      <td>NaN</td>\n      <td>NaN</td>\n      <td>NaN</td>\n      <td>NaN</td>\n      <td>NaN</td>\n      <td>NaN</td>\n      <td>NaN</td>\n      <td>NaN</td>\n      <td>...</td>\n      <td>NaN</td>\n      <td>NaN</td>\n      <td>NaN</td>\n      <td>NaN</td>\n      <td>NaN</td>\n      <td>NaN</td>\n      <td>NaN</td>\n      <td>NaN</td>\n      <td>NaN</td>\n      <td>NaN</td>\n    </tr>\n  </tbody>\n</table>\n<p>30 rows × 337 columns</p>\n</div>"
     },
     "execution_count": 2,
     "metadata": {},
     "output_type": "execute_result"
    }
   ],
   "source": [
    "sensors = pd.read_csv(\"data/sensor_locations.csv\")\n",
    "\n",
    "# all names of months in lowercase\n",
    "months = [datetime.date(2021, month, 1).strftime('%B').lower() for month in range(1, 13)]\n",
    "#air_quality['UTC time'] = pd.to_datetime(air_quality['UTC time'])\n",
    "air_quality = [pd.read_csv(\"data/\" + month + \"-2017.csv\") for month in months]\n",
    "air_quality = pd.concat(air_quality)\n",
    "\n",
    "air_quality.head(30)"
   ],
   "metadata": {
    "collapsed": false,
    "pycharm": {
     "name": "#%%\n"
    }
   }
  },
  {
   "cell_type": "code",
   "execution_count": 3,
   "outputs": [
    {
     "name": "stdout",
     "output_type": "stream",
     "text": [
      "UTC time          object\n",
      "3_temperature    float64\n",
      "3_humidity       float64\n",
      "3_pressure       float64\n",
      "3_pm1            float64\n",
      "                  ...   \n",
      "895_humidity     float64\n",
      "895_pressure     float64\n",
      "895_pm1          float64\n",
      "895_pm25         float64\n",
      "895_pm10         float64\n",
      "Length: 337, dtype: object\n"
     ]
    }
   ],
   "source": [
    "print(air_quality.dtypes)"
   ],
   "metadata": {
    "collapsed": false,
    "pycharm": {
     "name": "#%%\n"
    }
   }
  },
  {
   "cell_type": "markdown",
   "source": [
    "UTC time has object type instead of Pandas's datetime. We have to fix it."
   ],
   "metadata": {
    "collapsed": false
   }
  },
  {
   "cell_type": "code",
   "execution_count": 4,
   "outputs": [],
   "source": [
    "air_quality['UTC time'] = pd.to_datetime(air_quality['UTC time'])"
   ],
   "metadata": {
    "collapsed": false,
    "pycharm": {
     "name": "#%%\n"
    }
   }
  },
  {
   "cell_type": "code",
   "execution_count": 5,
   "outputs": [
    {
     "name": "stdout",
     "output_type": "stream",
     "text": [
      "True\n"
     ]
    }
   ],
   "source": [
    "print(air_quality.index.duplicated().any())"
   ],
   "metadata": {
    "collapsed": false,
    "pycharm": {
     "name": "#%%\n"
    }
   }
  },
  {
   "cell_type": "markdown",
   "source": [
    "Indexes are not-unique, so to speed up Pandas operations I will reindex the DataFrame."
   ],
   "metadata": {
    "collapsed": false,
    "pycharm": {
     "name": "#%% md\n"
    }
   }
  },
  {
   "cell_type": "code",
   "execution_count": 6,
   "outputs": [],
   "source": [
    "air_quality.index = np.arange(1, len(air_quality)+1)"
   ],
   "metadata": {
    "collapsed": false,
    "pycharm": {
     "name": "#%%\n"
    }
   }
  },
  {
   "cell_type": "markdown",
   "source": [
    "Let's find out what are the feature variables in the data."
   ],
   "metadata": {
    "collapsed": false,
    "pycharm": {
     "name": "#%% md\n"
    }
   }
  },
  {
   "cell_type": "code",
   "execution_count": 7,
   "outputs": [
    {
     "name": "stdout",
     "output_type": "stream",
     "text": [
      "Index(['UTC time', '3_temperature', '3_humidity', '3_pressure', '3_pm1',\n",
      "       '3_pm25', '3_pm10', '140_temperature', '140_humidity', '140_pressure',\n",
      "       ...\n",
      "       '857_pressure', '857_pm1', '857_pm25', '857_pm10', '895_temperature',\n",
      "       '895_humidity', '895_pressure', '895_pm1', '895_pm25', '895_pm10'],\n",
      "      dtype='object', length=337)\n"
     ]
    }
   ],
   "source": [
    "print(air_quality.columns)"
   ],
   "metadata": {
    "collapsed": false,
    "pycharm": {
     "name": "#%%\n"
    }
   }
  },
  {
   "cell_type": "code",
   "execution_count": 8,
   "outputs": [
    {
     "name": "stdout",
     "output_type": "stream",
     "text": [
      "56\n"
     ]
    }
   ],
   "source": [
    "print(int((len(air_quality.columns) - 1) / 6))"
   ],
   "metadata": {
    "collapsed": false,
    "pycharm": {
     "name": "#%%\n"
    }
   }
  },
  {
   "cell_type": "markdown",
   "source": [
    "We have data from 56 sensors, whilst every sensor have variable about its temp, humidity, pressure as well as pm1, pm10, pm25 content. Additionally, we got UTC time of the measurement."
   ],
   "metadata": {
    "collapsed": false,
    "pycharm": {
     "name": "#%% md\n"
    }
   }
  },
  {
   "cell_type": "markdown",
   "source": [
    "## Exploratory Data Analysis"
   ],
   "metadata": {
    "collapsed": false,
    "pycharm": {
     "name": "#%% md\n"
    }
   }
  },
  {
   "cell_type": "markdown",
   "source": [
    "#### Handling missing values"
   ],
   "metadata": {
    "collapsed": false,
    "pycharm": {
     "name": "#%% md\n"
    }
   }
  },
  {
   "cell_type": "code",
   "source": [
    "pd.set_option('display.max_rows', 500)\n",
    "print(air_quality.isnull().sum().sort_values(ascending = False))\n",
    "pd.set_option('display.max_rows', 100)"
   ],
   "metadata": {
    "collapsed": false,
    "pycharm": {
     "name": "#%%\n"
    }
   },
   "execution_count": 9,
   "outputs": [
    {
     "name": "stdout",
     "output_type": "stream",
     "text": [
      "203_pressure       8593\n",
      "178_pressure       8593\n",
      "3_humidity         8387\n",
      "3_temperature      8387\n",
      "183_pressure       7639\n",
      "808_temperature    7495\n",
      "808_humidity       7495\n",
      "808_pm10           7446\n",
      "808_pressure       7446\n",
      "808_pm1            7446\n",
      "808_pm25           7446\n",
      "3_pressure         7415\n",
      "3_pm1              7358\n",
      "3_pm10             7358\n",
      "3_pm25             7358\n",
      "205_pressure       7183\n",
      "211_pressure       7169\n",
      "211_humidity       7145\n",
      "211_temperature    7144\n",
      "211_pm10           7144\n",
      "211_pm1            7144\n",
      "211_pm25           7144\n",
      "185_pressure       7135\n",
      "179_pressure       7020\n",
      "172_humidity       6997\n",
      "172_temperature    6997\n",
      "182_pressure       6892\n",
      "196_pressure       6863\n",
      "184_pressure       6860\n",
      "181_pressure       6859\n",
      "180_pressure       6855\n",
      "201_pressure       6854\n",
      "176_pressure       6854\n",
      "178_humidity       6617\n",
      "178_temperature    6617\n",
      "142_pm25           6603\n",
      "142_pm10           6603\n",
      "142_pm1            6603\n",
      "178_pm10           6588\n",
      "178_pm1            6588\n",
      "178_pm25           6588\n",
      "142_pressure       6552\n",
      "142_humidity       6528\n",
      "142_temperature    6527\n",
      "147_humidity       6294\n",
      "147_temperature    6292\n",
      "187_pressure       6197\n",
      "187_humidity       6174\n",
      "187_temperature    6173\n",
      "187_pm1            6172\n",
      "187_pm25           6172\n",
      "187_pm10           6172\n",
      "205_temperature    6066\n",
      "205_humidity       6066\n",
      "205_pm1            6063\n",
      "205_pm25           6062\n",
      "205_pm10           6062\n",
      "857_humidity       5946\n",
      "857_temperature    5946\n",
      "857_pm25           5940\n",
      "857_pm1            5940\n",
      "857_pressure       5940\n",
      "857_pm10           5940\n",
      "713_humidity       5810\n",
      "713_temperature    5810\n",
      "227_humidity       5669\n",
      "227_temperature    5667\n",
      "713_pm25           5562\n",
      "713_pm1            5562\n",
      "713_pm10           5562\n",
      "713_pressure       5562\n",
      "213_humidity       4624\n",
      "213_temperature    4622\n",
      "213_pressure       4552\n",
      "213_pm25           4527\n",
      "213_pm1            4527\n",
      "213_pm10           4527\n",
      "227_pressure       4418\n",
      "227_pm1            4397\n",
      "227_pm25           4394\n",
      "227_pm10           4393\n",
      "216_pressure       4097\n",
      "216_humidity       4076\n",
      "216_pm10           4074\n",
      "216_temperature    4074\n",
      "216_pm25           4074\n",
      "216_pm1            4074\n",
      "622_temperature    3278\n",
      "622_humidity       3278\n",
      "895_humidity       3150\n",
      "895_temperature    3150\n",
      "177_pressure       3045\n",
      "622_pressure       3014\n",
      "622_pm25           3014\n",
      "622_pm10           3014\n",
      "622_pm1            3014\n",
      "895_pm10           2256\n",
      "895_pm25           2256\n",
      "895_pressure       2256\n",
      "895_pm1            2256\n",
      "140_temperature    2087\n",
      "140_humidity       2087\n",
      "140_pm10           1962\n",
      "140_pm1            1962\n",
      "140_pm25           1962\n",
      "140_pressure       1910\n",
      "203_humidity       1589\n",
      "203_pm10           1587\n",
      "203_pm25           1587\n",
      "203_pm1            1587\n",
      "203_temperature    1587\n",
      "195_pressure       1333\n",
      "195_humidity       1309\n",
      "195_temperature    1308\n",
      "195_pm10           1308\n",
      "195_pm25           1308\n",
      "195_pm1            1308\n",
      "174_pressure       1233\n",
      "174_humidity       1210\n",
      "174_pm1            1208\n",
      "174_temperature    1208\n",
      "174_pm10           1208\n",
      "174_pm25           1208\n",
      "182_humidity       1067\n",
      "182_temperature    1064\n",
      "182_pm1            1058\n",
      "182_pm25           1058\n",
      "182_pm10           1058\n",
      "177_humidity        820\n",
      "177_temperature     818\n",
      "177_pm25            818\n",
      "177_pm10            818\n",
      "177_pm1             818\n",
      "209_pressure        792\n",
      "209_humidity        769\n",
      "209_pm1             767\n",
      "209_pm25            767\n",
      "209_pm10            767\n",
      "209_temperature     767\n",
      "185_humidity        737\n",
      "185_temperature     734\n",
      "185_pm25            724\n",
      "185_pm1             724\n",
      "185_pm10            724\n",
      "147_pressure        653\n",
      "147_pm1             628\n",
      "147_pm10            628\n",
      "147_pm25            628\n",
      "208_pressure        575\n",
      "208_humidity        551\n",
      "208_pm1             551\n",
      "208_temperature     550\n",
      "208_pm25            550\n",
      "208_pm10            550\n",
      "210_pressure        473\n",
      "183_humidity        472\n",
      "183_temperature     470\n",
      "183_pm1             466\n",
      "183_pm25            466\n",
      "183_pm10            466\n",
      "210_humidity        450\n",
      "210_temperature     448\n",
      "210_pm10            448\n",
      "210_pm1             448\n",
      "210_pm25            448\n",
      "173_humidity        403\n",
      "173_temperature     401\n",
      "219_pressure        382\n",
      "219_humidity        359\n",
      "219_temperature     357\n",
      "219_pm10            357\n",
      "219_pm1             357\n",
      "219_pm25            357\n",
      "169_pressure        356\n",
      "202_pressure        344\n",
      "169_humidity        333\n",
      "169_pm1             332\n",
      "169_pm10            331\n",
      "169_pm25            331\n",
      "169_temperature     331\n",
      "202_pm1             320\n",
      "202_humidity        320\n",
      "202_pm10            319\n",
      "202_temperature     319\n",
      "202_pm25            319\n",
      "184_humidity        300\n",
      "184_temperature     298\n",
      "184_pm25            295\n",
      "184_pm1             295\n",
      "184_pm10            295\n",
      "194_pressure        288\n",
      "194_humidity        264\n",
      "194_pm10            263\n",
      "194_pm25            263\n",
      "194_pm1             262\n",
      "194_temperature     261\n",
      "192_pressure        234\n",
      "172_pressure        230\n",
      "181_humidity        229\n",
      "181_pm10            227\n",
      "181_pm25            227\n",
      "181_temperature     227\n",
      "181_pm1             227\n",
      "215_pressure        224\n",
      "192_humidity        211\n",
      "192_pm1             210\n",
      "192_pm25            209\n",
      "192_pm10            209\n",
      "192_temperature     209\n",
      "172_pm10            205\n",
      "172_pm1             205\n",
      "172_pm25            205\n",
      "215_humidity        201\n",
      "215_pm10            199\n",
      "215_pm25            199\n",
      "215_pm1             199\n",
      "215_temperature     199\n",
      "263_pressure        195\n",
      "201_humidity        188\n",
      "225_pressure        187\n",
      "201_temperature     186\n",
      "201_pm25            185\n",
      "201_pm10            185\n",
      "201_pm1             185\n",
      "263_humidity        171\n",
      "263_temperature     170\n",
      "263_pm10            170\n",
      "263_pm25            170\n",
      "263_pm1             170\n",
      "225_humidity        164\n",
      "225_pm1             163\n",
      "225_temperature     162\n",
      "225_pm25            162\n",
      "225_pm10            162\n",
      "170_pressure        158\n",
      "189_pressure        156\n",
      "179_humidity        143\n",
      "179_pm1             141\n",
      "179_temperature     141\n",
      "179_pm25            141\n",
      "179_pm10            141\n",
      "170_humidity        134\n",
      "170_temperature     133\n",
      "189_humidity        133\n",
      "170_pm1             133\n",
      "170_pm25            133\n",
      "170_pm10            133\n",
      "189_pm1             132\n",
      "189_pm25            131\n",
      "189_pm10            131\n",
      "189_temperature     131\n",
      "173_pressure        119\n",
      "223_pressure        116\n",
      "196_humidity        110\n",
      "196_temperature     109\n",
      "222_pressure        108\n",
      "196_pm25            108\n",
      "196_pm10            108\n",
      "196_pm1             108\n",
      "171_pressure        104\n",
      "222_pm1              96\n",
      "173_pm1              94\n",
      "173_pm10             94\n",
      "173_pm25             94\n",
      "223_humidity         93\n",
      "223_pm25             91\n",
      "223_pm10             91\n",
      "223_temperature      91\n",
      "223_pm1              91\n",
      "228_pressure         89\n",
      "222_pm25             88\n",
      "222_pm10             86\n",
      "222_humidity         84\n",
      "222_temperature      83\n",
      "171_humidity         81\n",
      "171_pm10             79\n",
      "171_temperature      79\n",
      "171_pm1              79\n",
      "171_pm25             79\n",
      "204_pressure         77\n",
      "214_pressure         67\n",
      "218_pressure         67\n",
      "221_pressure         67\n",
      "228_humidity         66\n",
      "228_pm1              64\n",
      "228_temperature      64\n",
      "228_pm25             64\n",
      "228_pm10             64\n",
      "176_humidity         58\n",
      "220_pressure         57\n",
      "176_pm10             56\n",
      "176_pm25             56\n",
      "176_pm1              56\n",
      "176_temperature      56\n",
      "204_humidity         53\n",
      "204_pm25             52\n",
      "204_temperature      52\n",
      "204_pm1              52\n",
      "204_pm10             52\n",
      "218_humidity         44\n",
      "221_humidity         43\n",
      "214_humidity         43\n",
      "218_pm1              43\n",
      "218_pm10             42\n",
      "221_pm1              42\n",
      "218_pm25             42\n",
      "214_temperature      42\n",
      "214_pm1              42\n",
      "214_pm25             42\n",
      "214_pm10             42\n",
      "221_temperature      42\n",
      "218_temperature      42\n",
      "221_pm10             42\n",
      "221_pm25             42\n",
      "226_pressure         39\n",
      "180_humidity         34\n",
      "220_humidity         34\n",
      "212_pressure         33\n",
      "180_temperature      33\n",
      "220_pm1              32\n",
      "220_temperature      32\n",
      "180_pm1              32\n",
      "180_pm25             32\n",
      "180_pm10             32\n",
      "220_pm10             32\n",
      "220_pm25             32\n",
      "226_humidity         16\n",
      "226_pm1              15\n",
      "226_pm25             14\n",
      "226_pm10             14\n",
      "226_temperature      14\n",
      "212_humidity          9\n",
      "212_pm10              8\n",
      "212_pm25              8\n",
      "212_pm1               8\n",
      "212_temperature       8\n",
      "UTC time              0\n",
      "dtype: int64\n"
     ]
    }
   ]
  },
  {
   "cell_type": "markdown",
   "source": [
    "Every variable, except of time of course, has missing values, many of them have enormous numbers of NaNs. We have to take care of it.\n",
    "\n",
    "Dropping all columns, which have significant number of missing values, would lead to loss of too much information. We will apply imputing for variables which have less than 5000 missing values. For the others we will drop the columns. Our strategy for imputer will be median, because I haven't carried out outlier analysis yet and I have a feeling that this will be safer than mean."
   ],
   "metadata": {
    "collapsed": false,
    "pycharm": {
     "name": "#%% md\n"
    }
   }
  },
  {
   "cell_type": "code",
   "source": [
    "# mask for Series made by summing null values in every column, taking only values which have more\n",
    " # than 5000 NaNs and dropping null values(values with <5000NaNs)\n",
    "mask = air_quality.isnull().sum()>5000\n",
    "cols_not_for_drop = air_quality.isnull().sum().mask(mask).dropna().index"
   ],
   "metadata": {
    "collapsed": false,
    "pycharm": {
     "name": "#%%\n"
    }
   },
   "execution_count": 10,
   "outputs": []
  },
  {
   "cell_type": "code",
   "execution_count": 11,
   "outputs": [],
   "source": [
    "air_quality = air_quality[cols_not_for_drop]# dropping columns with significant amount of NaNs\n",
    "cols = air_quality.columns.drop('UTC time')# for Simple Imputer"
   ],
   "metadata": {
    "collapsed": false,
    "pycharm": {
     "name": "#%%\n"
    }
   }
  },
  {
   "cell_type": "code",
   "execution_count": 12,
   "outputs": [
    {
     "data": {
      "text/plain": "    140_temperature  140_humidity  140_pressure  140_pm1  140_pm25  140_pm10  \\\n1              11.0          86.0      101666.0     23.0      19.0      34.0   \n2              11.0          86.0      101666.0     23.0      19.0      34.0   \n3              11.0          86.0      101666.0     23.0      19.0      34.0   \n4              11.0          86.0      101666.0     23.0      19.0      34.0   \n5              11.0          86.0      101666.0     23.0      19.0      34.0   \n6              11.0          86.0      101666.0     23.0      19.0      34.0   \n7              11.0          86.0      101666.0     23.0      19.0      34.0   \n8              11.0          86.0      101666.0     23.0      19.0      34.0   \n9              11.0          86.0      101666.0     23.0      19.0      34.0   \n10             11.0          86.0      101666.0     23.0      19.0      34.0   \n11             11.0          86.0      101666.0     23.0      19.0      34.0   \n12             11.0          86.0      101666.0     23.0      19.0      34.0   \n13             11.0          86.0      101666.0     23.0      19.0      34.0   \n14             11.0          86.0      101666.0     23.0      19.0      34.0   \n15             11.0          86.0      101666.0     23.0      19.0      34.0   \n16             11.0          86.0      101666.0     23.0      19.0      34.0   \n17             11.0          86.0      101666.0     23.0      19.0      34.0   \n18             11.0          86.0      101666.0     23.0      19.0      34.0   \n19             11.0          86.0      101666.0     23.0      19.0      34.0   \n20             11.0          86.0      101666.0     23.0      19.0      34.0   \n21             11.0          86.0      101666.0     23.0      19.0      34.0   \n22             11.0          86.0      101666.0     23.0      19.0      34.0   \n23             11.0          86.0      101666.0     23.0      19.0      34.0   \n24             11.0          86.0      101666.0     23.0      19.0      34.0   \n25             11.0          86.0      101666.0     23.0      19.0      34.0   \n26             11.0          86.0      101666.0     23.0      19.0      34.0   \n27             11.0          86.0      101666.0     23.0      19.0      34.0   \n28             11.0          86.0      101666.0     23.0      19.0      34.0   \n29             11.0          86.0      101666.0     23.0      19.0      34.0   \n30             11.0          86.0      101666.0     23.0      19.0      34.0   \n\n    147_pressure  147_pm1  147_pm25  147_pm10  ...  622_pressure  622_pm1  \\\n1       102505.0    196.0     222.0     346.0  ...      101891.0     24.0   \n2       102454.0    187.0     211.0     330.0  ...      101891.0     24.0   \n3       102375.0    187.0     212.0     333.0  ...      101891.0     24.0   \n4       102322.0    167.0     188.0     296.0  ...      101891.0     24.0   \n5       102277.0    164.0     184.0     290.0  ...      101891.0     24.0   \n6       102248.0    150.0     166.0     261.0  ...      101891.0     24.0   \n7       102211.0    137.0     151.0     238.0  ...      101891.0     24.0   \n8       102204.0    122.0     132.0     209.0  ...      101891.0     24.0   \n9       102182.0    110.0     118.0     186.0  ...      101891.0     24.0   \n10      102140.0    117.0     126.0     200.0  ...      101891.0     24.0   \n11      102043.0    102.0     108.0     171.0  ...      101891.0     24.0   \n12      101961.0     85.0      90.0     142.0  ...      101891.0     24.0   \n13      101895.0     74.0      76.0     122.0  ...      101891.0     24.0   \n14      101865.0     76.0      78.0     124.0  ...      101891.0     24.0   \n15      101838.0     86.0      90.0     143.0  ...      101891.0     24.0   \n16      101789.0    100.0     105.0     165.0  ...      101891.0     24.0   \n17      101768.0    116.0     125.0     195.0  ...      101891.0     24.0   \n18      101766.0    152.0     166.0     258.0  ...      101891.0     24.0   \n19      101756.0    184.0     204.0     318.0  ...      101891.0     24.0   \n20      101742.0    191.0     216.0     337.0  ...      101891.0     24.0   \n21      101712.0    148.0     164.0     258.0  ...      101891.0     24.0   \n22      101669.0    127.0     139.0     219.0  ...      101891.0     24.0   \n23      101622.0    137.0     151.0     236.0  ...      101891.0     24.0   \n24      101571.0    144.0     160.0     250.0  ...      101891.0     24.0   \n25      101516.0    117.0     127.0     202.0  ...      101891.0     24.0   \n26      101478.0    121.0     132.0     209.0  ...      101891.0     24.0   \n27      101425.0    121.0     133.0     211.0  ...      101891.0     24.0   \n28      101374.0    120.0     131.0     207.0  ...      101891.0     24.0   \n29      101342.0    126.0     139.0     219.0  ...      101891.0     24.0   \n30      101335.0    109.0     117.0     186.0  ...      101891.0     24.0   \n\n    622_pm25  622_pm10  895_temperature  895_humidity  895_pressure  895_pm1  \\\n1       21.0      39.0             10.0          85.0      101686.0     21.0   \n2       21.0      39.0             10.0          85.0      101686.0     21.0   \n3       21.0      39.0             10.0          85.0      101686.0     21.0   \n4       21.0      39.0             10.0          85.0      101686.0     21.0   \n5       21.0      39.0             10.0          85.0      101686.0     21.0   \n6       21.0      39.0             10.0          85.0      101686.0     21.0   \n7       21.0      39.0             10.0          85.0      101686.0     21.0   \n8       21.0      39.0             10.0          85.0      101686.0     21.0   \n9       21.0      39.0             10.0          85.0      101686.0     21.0   \n10      21.0      39.0             10.0          85.0      101686.0     21.0   \n11      21.0      39.0             10.0          85.0      101686.0     21.0   \n12      21.0      39.0             10.0          85.0      101686.0     21.0   \n13      21.0      39.0             10.0          85.0      101686.0     21.0   \n14      21.0      39.0             10.0          85.0      101686.0     21.0   \n15      21.0      39.0             10.0          85.0      101686.0     21.0   \n16      21.0      39.0             10.0          85.0      101686.0     21.0   \n17      21.0      39.0             10.0          85.0      101686.0     21.0   \n18      21.0      39.0             10.0          85.0      101686.0     21.0   \n19      21.0      39.0             10.0          85.0      101686.0     21.0   \n20      21.0      39.0             10.0          85.0      101686.0     21.0   \n21      21.0      39.0             10.0          85.0      101686.0     21.0   \n22      21.0      39.0             10.0          85.0      101686.0     21.0   \n23      21.0      39.0             10.0          85.0      101686.0     21.0   \n24      21.0      39.0             10.0          85.0      101686.0     21.0   \n25      21.0      39.0             10.0          85.0      101686.0     21.0   \n26      21.0      39.0             10.0          85.0      101686.0     21.0   \n27      21.0      39.0             10.0          85.0      101686.0     21.0   \n28      21.0      39.0             10.0          85.0      101686.0     21.0   \n29      21.0      39.0             10.0          85.0      101686.0     21.0   \n30      21.0      39.0             10.0          85.0      101686.0     21.0   \n\n    895_pm25  895_pm10  \n1       19.0      33.0  \n2       19.0      33.0  \n3       19.0      33.0  \n4       19.0      33.0  \n5       19.0      33.0  \n6       19.0      33.0  \n7       19.0      33.0  \n8       19.0      33.0  \n9       19.0      33.0  \n10      19.0      33.0  \n11      19.0      33.0  \n12      19.0      33.0  \n13      19.0      33.0  \n14      19.0      33.0  \n15      19.0      33.0  \n16      19.0      33.0  \n17      19.0      33.0  \n18      19.0      33.0  \n19      19.0      33.0  \n20      19.0      33.0  \n21      19.0      33.0  \n22      19.0      33.0  \n23      19.0      33.0  \n24      19.0      33.0  \n25      19.0      33.0  \n26      19.0      33.0  \n27      19.0      33.0  \n28      19.0      33.0  \n29      19.0      33.0  \n30      19.0      33.0  \n\n[30 rows x 265 columns]",
      "text/html": "<div>\n<style scoped>\n    .dataframe tbody tr th:only-of-type {\n        vertical-align: middle;\n    }\n\n    .dataframe tbody tr th {\n        vertical-align: top;\n    }\n\n    .dataframe thead th {\n        text-align: right;\n    }\n</style>\n<table border=\"1\" class=\"dataframe\">\n  <thead>\n    <tr style=\"text-align: right;\">\n      <th></th>\n      <th>140_temperature</th>\n      <th>140_humidity</th>\n      <th>140_pressure</th>\n      <th>140_pm1</th>\n      <th>140_pm25</th>\n      <th>140_pm10</th>\n      <th>147_pressure</th>\n      <th>147_pm1</th>\n      <th>147_pm25</th>\n      <th>147_pm10</th>\n      <th>...</th>\n      <th>622_pressure</th>\n      <th>622_pm1</th>\n      <th>622_pm25</th>\n      <th>622_pm10</th>\n      <th>895_temperature</th>\n      <th>895_humidity</th>\n      <th>895_pressure</th>\n      <th>895_pm1</th>\n      <th>895_pm25</th>\n      <th>895_pm10</th>\n    </tr>\n  </thead>\n  <tbody>\n    <tr>\n      <th>1</th>\n      <td>11.0</td>\n      <td>86.0</td>\n      <td>101666.0</td>\n      <td>23.0</td>\n      <td>19.0</td>\n      <td>34.0</td>\n      <td>102505.0</td>\n      <td>196.0</td>\n      <td>222.0</td>\n      <td>346.0</td>\n      <td>...</td>\n      <td>101891.0</td>\n      <td>24.0</td>\n      <td>21.0</td>\n      <td>39.0</td>\n      <td>10.0</td>\n      <td>85.0</td>\n      <td>101686.0</td>\n      <td>21.0</td>\n      <td>19.0</td>\n      <td>33.0</td>\n    </tr>\n    <tr>\n      <th>2</th>\n      <td>11.0</td>\n      <td>86.0</td>\n      <td>101666.0</td>\n      <td>23.0</td>\n      <td>19.0</td>\n      <td>34.0</td>\n      <td>102454.0</td>\n      <td>187.0</td>\n      <td>211.0</td>\n      <td>330.0</td>\n      <td>...</td>\n      <td>101891.0</td>\n      <td>24.0</td>\n      <td>21.0</td>\n      <td>39.0</td>\n      <td>10.0</td>\n      <td>85.0</td>\n      <td>101686.0</td>\n      <td>21.0</td>\n      <td>19.0</td>\n      <td>33.0</td>\n    </tr>\n    <tr>\n      <th>3</th>\n      <td>11.0</td>\n      <td>86.0</td>\n      <td>101666.0</td>\n      <td>23.0</td>\n      <td>19.0</td>\n      <td>34.0</td>\n      <td>102375.0</td>\n      <td>187.0</td>\n      <td>212.0</td>\n      <td>333.0</td>\n      <td>...</td>\n      <td>101891.0</td>\n      <td>24.0</td>\n      <td>21.0</td>\n      <td>39.0</td>\n      <td>10.0</td>\n      <td>85.0</td>\n      <td>101686.0</td>\n      <td>21.0</td>\n      <td>19.0</td>\n      <td>33.0</td>\n    </tr>\n    <tr>\n      <th>4</th>\n      <td>11.0</td>\n      <td>86.0</td>\n      <td>101666.0</td>\n      <td>23.0</td>\n      <td>19.0</td>\n      <td>34.0</td>\n      <td>102322.0</td>\n      <td>167.0</td>\n      <td>188.0</td>\n      <td>296.0</td>\n      <td>...</td>\n      <td>101891.0</td>\n      <td>24.0</td>\n      <td>21.0</td>\n      <td>39.0</td>\n      <td>10.0</td>\n      <td>85.0</td>\n      <td>101686.0</td>\n      <td>21.0</td>\n      <td>19.0</td>\n      <td>33.0</td>\n    </tr>\n    <tr>\n      <th>5</th>\n      <td>11.0</td>\n      <td>86.0</td>\n      <td>101666.0</td>\n      <td>23.0</td>\n      <td>19.0</td>\n      <td>34.0</td>\n      <td>102277.0</td>\n      <td>164.0</td>\n      <td>184.0</td>\n      <td>290.0</td>\n      <td>...</td>\n      <td>101891.0</td>\n      <td>24.0</td>\n      <td>21.0</td>\n      <td>39.0</td>\n      <td>10.0</td>\n      <td>85.0</td>\n      <td>101686.0</td>\n      <td>21.0</td>\n      <td>19.0</td>\n      <td>33.0</td>\n    </tr>\n    <tr>\n      <th>6</th>\n      <td>11.0</td>\n      <td>86.0</td>\n      <td>101666.0</td>\n      <td>23.0</td>\n      <td>19.0</td>\n      <td>34.0</td>\n      <td>102248.0</td>\n      <td>150.0</td>\n      <td>166.0</td>\n      <td>261.0</td>\n      <td>...</td>\n      <td>101891.0</td>\n      <td>24.0</td>\n      <td>21.0</td>\n      <td>39.0</td>\n      <td>10.0</td>\n      <td>85.0</td>\n      <td>101686.0</td>\n      <td>21.0</td>\n      <td>19.0</td>\n      <td>33.0</td>\n    </tr>\n    <tr>\n      <th>7</th>\n      <td>11.0</td>\n      <td>86.0</td>\n      <td>101666.0</td>\n      <td>23.0</td>\n      <td>19.0</td>\n      <td>34.0</td>\n      <td>102211.0</td>\n      <td>137.0</td>\n      <td>151.0</td>\n      <td>238.0</td>\n      <td>...</td>\n      <td>101891.0</td>\n      <td>24.0</td>\n      <td>21.0</td>\n      <td>39.0</td>\n      <td>10.0</td>\n      <td>85.0</td>\n      <td>101686.0</td>\n      <td>21.0</td>\n      <td>19.0</td>\n      <td>33.0</td>\n    </tr>\n    <tr>\n      <th>8</th>\n      <td>11.0</td>\n      <td>86.0</td>\n      <td>101666.0</td>\n      <td>23.0</td>\n      <td>19.0</td>\n      <td>34.0</td>\n      <td>102204.0</td>\n      <td>122.0</td>\n      <td>132.0</td>\n      <td>209.0</td>\n      <td>...</td>\n      <td>101891.0</td>\n      <td>24.0</td>\n      <td>21.0</td>\n      <td>39.0</td>\n      <td>10.0</td>\n      <td>85.0</td>\n      <td>101686.0</td>\n      <td>21.0</td>\n      <td>19.0</td>\n      <td>33.0</td>\n    </tr>\n    <tr>\n      <th>9</th>\n      <td>11.0</td>\n      <td>86.0</td>\n      <td>101666.0</td>\n      <td>23.0</td>\n      <td>19.0</td>\n      <td>34.0</td>\n      <td>102182.0</td>\n      <td>110.0</td>\n      <td>118.0</td>\n      <td>186.0</td>\n      <td>...</td>\n      <td>101891.0</td>\n      <td>24.0</td>\n      <td>21.0</td>\n      <td>39.0</td>\n      <td>10.0</td>\n      <td>85.0</td>\n      <td>101686.0</td>\n      <td>21.0</td>\n      <td>19.0</td>\n      <td>33.0</td>\n    </tr>\n    <tr>\n      <th>10</th>\n      <td>11.0</td>\n      <td>86.0</td>\n      <td>101666.0</td>\n      <td>23.0</td>\n      <td>19.0</td>\n      <td>34.0</td>\n      <td>102140.0</td>\n      <td>117.0</td>\n      <td>126.0</td>\n      <td>200.0</td>\n      <td>...</td>\n      <td>101891.0</td>\n      <td>24.0</td>\n      <td>21.0</td>\n      <td>39.0</td>\n      <td>10.0</td>\n      <td>85.0</td>\n      <td>101686.0</td>\n      <td>21.0</td>\n      <td>19.0</td>\n      <td>33.0</td>\n    </tr>\n    <tr>\n      <th>11</th>\n      <td>11.0</td>\n      <td>86.0</td>\n      <td>101666.0</td>\n      <td>23.0</td>\n      <td>19.0</td>\n      <td>34.0</td>\n      <td>102043.0</td>\n      <td>102.0</td>\n      <td>108.0</td>\n      <td>171.0</td>\n      <td>...</td>\n      <td>101891.0</td>\n      <td>24.0</td>\n      <td>21.0</td>\n      <td>39.0</td>\n      <td>10.0</td>\n      <td>85.0</td>\n      <td>101686.0</td>\n      <td>21.0</td>\n      <td>19.0</td>\n      <td>33.0</td>\n    </tr>\n    <tr>\n      <th>12</th>\n      <td>11.0</td>\n      <td>86.0</td>\n      <td>101666.0</td>\n      <td>23.0</td>\n      <td>19.0</td>\n      <td>34.0</td>\n      <td>101961.0</td>\n      <td>85.0</td>\n      <td>90.0</td>\n      <td>142.0</td>\n      <td>...</td>\n      <td>101891.0</td>\n      <td>24.0</td>\n      <td>21.0</td>\n      <td>39.0</td>\n      <td>10.0</td>\n      <td>85.0</td>\n      <td>101686.0</td>\n      <td>21.0</td>\n      <td>19.0</td>\n      <td>33.0</td>\n    </tr>\n    <tr>\n      <th>13</th>\n      <td>11.0</td>\n      <td>86.0</td>\n      <td>101666.0</td>\n      <td>23.0</td>\n      <td>19.0</td>\n      <td>34.0</td>\n      <td>101895.0</td>\n      <td>74.0</td>\n      <td>76.0</td>\n      <td>122.0</td>\n      <td>...</td>\n      <td>101891.0</td>\n      <td>24.0</td>\n      <td>21.0</td>\n      <td>39.0</td>\n      <td>10.0</td>\n      <td>85.0</td>\n      <td>101686.0</td>\n      <td>21.0</td>\n      <td>19.0</td>\n      <td>33.0</td>\n    </tr>\n    <tr>\n      <th>14</th>\n      <td>11.0</td>\n      <td>86.0</td>\n      <td>101666.0</td>\n      <td>23.0</td>\n      <td>19.0</td>\n      <td>34.0</td>\n      <td>101865.0</td>\n      <td>76.0</td>\n      <td>78.0</td>\n      <td>124.0</td>\n      <td>...</td>\n      <td>101891.0</td>\n      <td>24.0</td>\n      <td>21.0</td>\n      <td>39.0</td>\n      <td>10.0</td>\n      <td>85.0</td>\n      <td>101686.0</td>\n      <td>21.0</td>\n      <td>19.0</td>\n      <td>33.0</td>\n    </tr>\n    <tr>\n      <th>15</th>\n      <td>11.0</td>\n      <td>86.0</td>\n      <td>101666.0</td>\n      <td>23.0</td>\n      <td>19.0</td>\n      <td>34.0</td>\n      <td>101838.0</td>\n      <td>86.0</td>\n      <td>90.0</td>\n      <td>143.0</td>\n      <td>...</td>\n      <td>101891.0</td>\n      <td>24.0</td>\n      <td>21.0</td>\n      <td>39.0</td>\n      <td>10.0</td>\n      <td>85.0</td>\n      <td>101686.0</td>\n      <td>21.0</td>\n      <td>19.0</td>\n      <td>33.0</td>\n    </tr>\n    <tr>\n      <th>16</th>\n      <td>11.0</td>\n      <td>86.0</td>\n      <td>101666.0</td>\n      <td>23.0</td>\n      <td>19.0</td>\n      <td>34.0</td>\n      <td>101789.0</td>\n      <td>100.0</td>\n      <td>105.0</td>\n      <td>165.0</td>\n      <td>...</td>\n      <td>101891.0</td>\n      <td>24.0</td>\n      <td>21.0</td>\n      <td>39.0</td>\n      <td>10.0</td>\n      <td>85.0</td>\n      <td>101686.0</td>\n      <td>21.0</td>\n      <td>19.0</td>\n      <td>33.0</td>\n    </tr>\n    <tr>\n      <th>17</th>\n      <td>11.0</td>\n      <td>86.0</td>\n      <td>101666.0</td>\n      <td>23.0</td>\n      <td>19.0</td>\n      <td>34.0</td>\n      <td>101768.0</td>\n      <td>116.0</td>\n      <td>125.0</td>\n      <td>195.0</td>\n      <td>...</td>\n      <td>101891.0</td>\n      <td>24.0</td>\n      <td>21.0</td>\n      <td>39.0</td>\n      <td>10.0</td>\n      <td>85.0</td>\n      <td>101686.0</td>\n      <td>21.0</td>\n      <td>19.0</td>\n      <td>33.0</td>\n    </tr>\n    <tr>\n      <th>18</th>\n      <td>11.0</td>\n      <td>86.0</td>\n      <td>101666.0</td>\n      <td>23.0</td>\n      <td>19.0</td>\n      <td>34.0</td>\n      <td>101766.0</td>\n      <td>152.0</td>\n      <td>166.0</td>\n      <td>258.0</td>\n      <td>...</td>\n      <td>101891.0</td>\n      <td>24.0</td>\n      <td>21.0</td>\n      <td>39.0</td>\n      <td>10.0</td>\n      <td>85.0</td>\n      <td>101686.0</td>\n      <td>21.0</td>\n      <td>19.0</td>\n      <td>33.0</td>\n    </tr>\n    <tr>\n      <th>19</th>\n      <td>11.0</td>\n      <td>86.0</td>\n      <td>101666.0</td>\n      <td>23.0</td>\n      <td>19.0</td>\n      <td>34.0</td>\n      <td>101756.0</td>\n      <td>184.0</td>\n      <td>204.0</td>\n      <td>318.0</td>\n      <td>...</td>\n      <td>101891.0</td>\n      <td>24.0</td>\n      <td>21.0</td>\n      <td>39.0</td>\n      <td>10.0</td>\n      <td>85.0</td>\n      <td>101686.0</td>\n      <td>21.0</td>\n      <td>19.0</td>\n      <td>33.0</td>\n    </tr>\n    <tr>\n      <th>20</th>\n      <td>11.0</td>\n      <td>86.0</td>\n      <td>101666.0</td>\n      <td>23.0</td>\n      <td>19.0</td>\n      <td>34.0</td>\n      <td>101742.0</td>\n      <td>191.0</td>\n      <td>216.0</td>\n      <td>337.0</td>\n      <td>...</td>\n      <td>101891.0</td>\n      <td>24.0</td>\n      <td>21.0</td>\n      <td>39.0</td>\n      <td>10.0</td>\n      <td>85.0</td>\n      <td>101686.0</td>\n      <td>21.0</td>\n      <td>19.0</td>\n      <td>33.0</td>\n    </tr>\n    <tr>\n      <th>21</th>\n      <td>11.0</td>\n      <td>86.0</td>\n      <td>101666.0</td>\n      <td>23.0</td>\n      <td>19.0</td>\n      <td>34.0</td>\n      <td>101712.0</td>\n      <td>148.0</td>\n      <td>164.0</td>\n      <td>258.0</td>\n      <td>...</td>\n      <td>101891.0</td>\n      <td>24.0</td>\n      <td>21.0</td>\n      <td>39.0</td>\n      <td>10.0</td>\n      <td>85.0</td>\n      <td>101686.0</td>\n      <td>21.0</td>\n      <td>19.0</td>\n      <td>33.0</td>\n    </tr>\n    <tr>\n      <th>22</th>\n      <td>11.0</td>\n      <td>86.0</td>\n      <td>101666.0</td>\n      <td>23.0</td>\n      <td>19.0</td>\n      <td>34.0</td>\n      <td>101669.0</td>\n      <td>127.0</td>\n      <td>139.0</td>\n      <td>219.0</td>\n      <td>...</td>\n      <td>101891.0</td>\n      <td>24.0</td>\n      <td>21.0</td>\n      <td>39.0</td>\n      <td>10.0</td>\n      <td>85.0</td>\n      <td>101686.0</td>\n      <td>21.0</td>\n      <td>19.0</td>\n      <td>33.0</td>\n    </tr>\n    <tr>\n      <th>23</th>\n      <td>11.0</td>\n      <td>86.0</td>\n      <td>101666.0</td>\n      <td>23.0</td>\n      <td>19.0</td>\n      <td>34.0</td>\n      <td>101622.0</td>\n      <td>137.0</td>\n      <td>151.0</td>\n      <td>236.0</td>\n      <td>...</td>\n      <td>101891.0</td>\n      <td>24.0</td>\n      <td>21.0</td>\n      <td>39.0</td>\n      <td>10.0</td>\n      <td>85.0</td>\n      <td>101686.0</td>\n      <td>21.0</td>\n      <td>19.0</td>\n      <td>33.0</td>\n    </tr>\n    <tr>\n      <th>24</th>\n      <td>11.0</td>\n      <td>86.0</td>\n      <td>101666.0</td>\n      <td>23.0</td>\n      <td>19.0</td>\n      <td>34.0</td>\n      <td>101571.0</td>\n      <td>144.0</td>\n      <td>160.0</td>\n      <td>250.0</td>\n      <td>...</td>\n      <td>101891.0</td>\n      <td>24.0</td>\n      <td>21.0</td>\n      <td>39.0</td>\n      <td>10.0</td>\n      <td>85.0</td>\n      <td>101686.0</td>\n      <td>21.0</td>\n      <td>19.0</td>\n      <td>33.0</td>\n    </tr>\n    <tr>\n      <th>25</th>\n      <td>11.0</td>\n      <td>86.0</td>\n      <td>101666.0</td>\n      <td>23.0</td>\n      <td>19.0</td>\n      <td>34.0</td>\n      <td>101516.0</td>\n      <td>117.0</td>\n      <td>127.0</td>\n      <td>202.0</td>\n      <td>...</td>\n      <td>101891.0</td>\n      <td>24.0</td>\n      <td>21.0</td>\n      <td>39.0</td>\n      <td>10.0</td>\n      <td>85.0</td>\n      <td>101686.0</td>\n      <td>21.0</td>\n      <td>19.0</td>\n      <td>33.0</td>\n    </tr>\n    <tr>\n      <th>26</th>\n      <td>11.0</td>\n      <td>86.0</td>\n      <td>101666.0</td>\n      <td>23.0</td>\n      <td>19.0</td>\n      <td>34.0</td>\n      <td>101478.0</td>\n      <td>121.0</td>\n      <td>132.0</td>\n      <td>209.0</td>\n      <td>...</td>\n      <td>101891.0</td>\n      <td>24.0</td>\n      <td>21.0</td>\n      <td>39.0</td>\n      <td>10.0</td>\n      <td>85.0</td>\n      <td>101686.0</td>\n      <td>21.0</td>\n      <td>19.0</td>\n      <td>33.0</td>\n    </tr>\n    <tr>\n      <th>27</th>\n      <td>11.0</td>\n      <td>86.0</td>\n      <td>101666.0</td>\n      <td>23.0</td>\n      <td>19.0</td>\n      <td>34.0</td>\n      <td>101425.0</td>\n      <td>121.0</td>\n      <td>133.0</td>\n      <td>211.0</td>\n      <td>...</td>\n      <td>101891.0</td>\n      <td>24.0</td>\n      <td>21.0</td>\n      <td>39.0</td>\n      <td>10.0</td>\n      <td>85.0</td>\n      <td>101686.0</td>\n      <td>21.0</td>\n      <td>19.0</td>\n      <td>33.0</td>\n    </tr>\n    <tr>\n      <th>28</th>\n      <td>11.0</td>\n      <td>86.0</td>\n      <td>101666.0</td>\n      <td>23.0</td>\n      <td>19.0</td>\n      <td>34.0</td>\n      <td>101374.0</td>\n      <td>120.0</td>\n      <td>131.0</td>\n      <td>207.0</td>\n      <td>...</td>\n      <td>101891.0</td>\n      <td>24.0</td>\n      <td>21.0</td>\n      <td>39.0</td>\n      <td>10.0</td>\n      <td>85.0</td>\n      <td>101686.0</td>\n      <td>21.0</td>\n      <td>19.0</td>\n      <td>33.0</td>\n    </tr>\n    <tr>\n      <th>29</th>\n      <td>11.0</td>\n      <td>86.0</td>\n      <td>101666.0</td>\n      <td>23.0</td>\n      <td>19.0</td>\n      <td>34.0</td>\n      <td>101342.0</td>\n      <td>126.0</td>\n      <td>139.0</td>\n      <td>219.0</td>\n      <td>...</td>\n      <td>101891.0</td>\n      <td>24.0</td>\n      <td>21.0</td>\n      <td>39.0</td>\n      <td>10.0</td>\n      <td>85.0</td>\n      <td>101686.0</td>\n      <td>21.0</td>\n      <td>19.0</td>\n      <td>33.0</td>\n    </tr>\n    <tr>\n      <th>30</th>\n      <td>11.0</td>\n      <td>86.0</td>\n      <td>101666.0</td>\n      <td>23.0</td>\n      <td>19.0</td>\n      <td>34.0</td>\n      <td>101335.0</td>\n      <td>109.0</td>\n      <td>117.0</td>\n      <td>186.0</td>\n      <td>...</td>\n      <td>101891.0</td>\n      <td>24.0</td>\n      <td>21.0</td>\n      <td>39.0</td>\n      <td>10.0</td>\n      <td>85.0</td>\n      <td>101686.0</td>\n      <td>21.0</td>\n      <td>19.0</td>\n      <td>33.0</td>\n    </tr>\n  </tbody>\n</table>\n<p>30 rows × 265 columns</p>\n</div>"
     },
     "execution_count": 12,
     "metadata": {},
     "output_type": "execute_result"
    }
   ],
   "source": [
    "from sklearn.impute import SimpleImputer\n",
    "\n",
    "imputer = SimpleImputer(strategy = 'median')\n",
    "air_quality_transformed = pd.DataFrame(imputer.fit_transform(air_quality[cols]), columns = cols,\n",
    "                                       index = pd.RangeIndex(1, len(air_quality) + 1, 1))\n",
    "air_quality_transformed.head(30)"
   ],
   "metadata": {
    "collapsed": false,
    "pycharm": {
     "name": "#%%\n"
    }
   }
  },
  {
   "cell_type": "code",
   "execution_count": 17,
   "outputs": [
    {
     "data": {
      "text/plain": "              UTC time  140_temperature  140_humidity  140_pressure  140_pm1  \\\n1  2017-01-01 00:00:00             11.0          86.0      101666.0     23.0   \n2  2017-01-01 01:00:00             11.0          86.0      101666.0     23.0   \n3  2017-01-01 02:00:00             11.0          86.0      101666.0     23.0   \n4  2017-01-01 03:00:00             11.0          86.0      101666.0     23.0   \n5  2017-01-01 04:00:00             11.0          86.0      101666.0     23.0   \n6  2017-01-01 05:00:00             11.0          86.0      101666.0     23.0   \n7  2017-01-01 06:00:00             11.0          86.0      101666.0     23.0   \n8  2017-01-01 07:00:00             11.0          86.0      101666.0     23.0   \n9  2017-01-01 08:00:00             11.0          86.0      101666.0     23.0   \n10 2017-01-01 09:00:00             11.0          86.0      101666.0     23.0   \n11 2017-01-01 10:00:00             11.0          86.0      101666.0     23.0   \n12 2017-01-01 11:00:00             11.0          86.0      101666.0     23.0   \n13 2017-01-01 12:00:00             11.0          86.0      101666.0     23.0   \n14 2017-01-01 13:00:00             11.0          86.0      101666.0     23.0   \n15 2017-01-01 14:00:00             11.0          86.0      101666.0     23.0   \n16 2017-01-01 15:00:00             11.0          86.0      101666.0     23.0   \n17 2017-01-01 16:00:00             11.0          86.0      101666.0     23.0   \n18 2017-01-01 17:00:00             11.0          86.0      101666.0     23.0   \n19 2017-01-01 18:00:00             11.0          86.0      101666.0     23.0   \n20 2017-01-01 19:00:00             11.0          86.0      101666.0     23.0   \n21 2017-01-01 20:00:00             11.0          86.0      101666.0     23.0   \n22 2017-01-01 21:00:00             11.0          86.0      101666.0     23.0   \n23 2017-01-01 22:00:00             11.0          86.0      101666.0     23.0   \n24 2017-01-01 23:00:00             11.0          86.0      101666.0     23.0   \n25 2017-01-02 00:00:00             11.0          86.0      101666.0     23.0   \n26 2017-01-02 01:00:00             11.0          86.0      101666.0     23.0   \n27 2017-01-02 02:00:00             11.0          86.0      101666.0     23.0   \n28 2017-01-02 03:00:00             11.0          86.0      101666.0     23.0   \n29 2017-01-02 04:00:00             11.0          86.0      101666.0     23.0   \n30 2017-01-02 05:00:00             11.0          86.0      101666.0     23.0   \n\n    140_pm25  140_pm10  147_pressure  147_pm1  147_pm25  ...  622_pressure  \\\n1       19.0      34.0      102505.0    196.0     222.0  ...      101891.0   \n2       19.0      34.0      102454.0    187.0     211.0  ...      101891.0   \n3       19.0      34.0      102375.0    187.0     212.0  ...      101891.0   \n4       19.0      34.0      102322.0    167.0     188.0  ...      101891.0   \n5       19.0      34.0      102277.0    164.0     184.0  ...      101891.0   \n6       19.0      34.0      102248.0    150.0     166.0  ...      101891.0   \n7       19.0      34.0      102211.0    137.0     151.0  ...      101891.0   \n8       19.0      34.0      102204.0    122.0     132.0  ...      101891.0   \n9       19.0      34.0      102182.0    110.0     118.0  ...      101891.0   \n10      19.0      34.0      102140.0    117.0     126.0  ...      101891.0   \n11      19.0      34.0      102043.0    102.0     108.0  ...      101891.0   \n12      19.0      34.0      101961.0     85.0      90.0  ...      101891.0   \n13      19.0      34.0      101895.0     74.0      76.0  ...      101891.0   \n14      19.0      34.0      101865.0     76.0      78.0  ...      101891.0   \n15      19.0      34.0      101838.0     86.0      90.0  ...      101891.0   \n16      19.0      34.0      101789.0    100.0     105.0  ...      101891.0   \n17      19.0      34.0      101768.0    116.0     125.0  ...      101891.0   \n18      19.0      34.0      101766.0    152.0     166.0  ...      101891.0   \n19      19.0      34.0      101756.0    184.0     204.0  ...      101891.0   \n20      19.0      34.0      101742.0    191.0     216.0  ...      101891.0   \n21      19.0      34.0      101712.0    148.0     164.0  ...      101891.0   \n22      19.0      34.0      101669.0    127.0     139.0  ...      101891.0   \n23      19.0      34.0      101622.0    137.0     151.0  ...      101891.0   \n24      19.0      34.0      101571.0    144.0     160.0  ...      101891.0   \n25      19.0      34.0      101516.0    117.0     127.0  ...      101891.0   \n26      19.0      34.0      101478.0    121.0     132.0  ...      101891.0   \n27      19.0      34.0      101425.0    121.0     133.0  ...      101891.0   \n28      19.0      34.0      101374.0    120.0     131.0  ...      101891.0   \n29      19.0      34.0      101342.0    126.0     139.0  ...      101891.0   \n30      19.0      34.0      101335.0    109.0     117.0  ...      101891.0   \n\n    622_pm1  622_pm25  622_pm10  895_temperature  895_humidity  895_pressure  \\\n1      24.0      21.0      39.0             10.0          85.0      101686.0   \n2      24.0      21.0      39.0             10.0          85.0      101686.0   \n3      24.0      21.0      39.0             10.0          85.0      101686.0   \n4      24.0      21.0      39.0             10.0          85.0      101686.0   \n5      24.0      21.0      39.0             10.0          85.0      101686.0   \n6      24.0      21.0      39.0             10.0          85.0      101686.0   \n7      24.0      21.0      39.0             10.0          85.0      101686.0   \n8      24.0      21.0      39.0             10.0          85.0      101686.0   \n9      24.0      21.0      39.0             10.0          85.0      101686.0   \n10     24.0      21.0      39.0             10.0          85.0      101686.0   \n11     24.0      21.0      39.0             10.0          85.0      101686.0   \n12     24.0      21.0      39.0             10.0          85.0      101686.0   \n13     24.0      21.0      39.0             10.0          85.0      101686.0   \n14     24.0      21.0      39.0             10.0          85.0      101686.0   \n15     24.0      21.0      39.0             10.0          85.0      101686.0   \n16     24.0      21.0      39.0             10.0          85.0      101686.0   \n17     24.0      21.0      39.0             10.0          85.0      101686.0   \n18     24.0      21.0      39.0             10.0          85.0      101686.0   \n19     24.0      21.0      39.0             10.0          85.0      101686.0   \n20     24.0      21.0      39.0             10.0          85.0      101686.0   \n21     24.0      21.0      39.0             10.0          85.0      101686.0   \n22     24.0      21.0      39.0             10.0          85.0      101686.0   \n23     24.0      21.0      39.0             10.0          85.0      101686.0   \n24     24.0      21.0      39.0             10.0          85.0      101686.0   \n25     24.0      21.0      39.0             10.0          85.0      101686.0   \n26     24.0      21.0      39.0             10.0          85.0      101686.0   \n27     24.0      21.0      39.0             10.0          85.0      101686.0   \n28     24.0      21.0      39.0             10.0          85.0      101686.0   \n29     24.0      21.0      39.0             10.0          85.0      101686.0   \n30     24.0      21.0      39.0             10.0          85.0      101686.0   \n\n    895_pm1  895_pm25  895_pm10  \n1      21.0      19.0      33.0  \n2      21.0      19.0      33.0  \n3      21.0      19.0      33.0  \n4      21.0      19.0      33.0  \n5      21.0      19.0      33.0  \n6      21.0      19.0      33.0  \n7      21.0      19.0      33.0  \n8      21.0      19.0      33.0  \n9      21.0      19.0      33.0  \n10     21.0      19.0      33.0  \n11     21.0      19.0      33.0  \n12     21.0      19.0      33.0  \n13     21.0      19.0      33.0  \n14     21.0      19.0      33.0  \n15     21.0      19.0      33.0  \n16     21.0      19.0      33.0  \n17     21.0      19.0      33.0  \n18     21.0      19.0      33.0  \n19     21.0      19.0      33.0  \n20     21.0      19.0      33.0  \n21     21.0      19.0      33.0  \n22     21.0      19.0      33.0  \n23     21.0      19.0      33.0  \n24     21.0      19.0      33.0  \n25     21.0      19.0      33.0  \n26     21.0      19.0      33.0  \n27     21.0      19.0      33.0  \n28     21.0      19.0      33.0  \n29     21.0      19.0      33.0  \n30     21.0      19.0      33.0  \n\n[30 rows x 266 columns]",
      "text/html": "<div>\n<style scoped>\n    .dataframe tbody tr th:only-of-type {\n        vertical-align: middle;\n    }\n\n    .dataframe tbody tr th {\n        vertical-align: top;\n    }\n\n    .dataframe thead th {\n        text-align: right;\n    }\n</style>\n<table border=\"1\" class=\"dataframe\">\n  <thead>\n    <tr style=\"text-align: right;\">\n      <th></th>\n      <th>UTC time</th>\n      <th>140_temperature</th>\n      <th>140_humidity</th>\n      <th>140_pressure</th>\n      <th>140_pm1</th>\n      <th>140_pm25</th>\n      <th>140_pm10</th>\n      <th>147_pressure</th>\n      <th>147_pm1</th>\n      <th>147_pm25</th>\n      <th>...</th>\n      <th>622_pressure</th>\n      <th>622_pm1</th>\n      <th>622_pm25</th>\n      <th>622_pm10</th>\n      <th>895_temperature</th>\n      <th>895_humidity</th>\n      <th>895_pressure</th>\n      <th>895_pm1</th>\n      <th>895_pm25</th>\n      <th>895_pm10</th>\n    </tr>\n  </thead>\n  <tbody>\n    <tr>\n      <th>1</th>\n      <td>2017-01-01 00:00:00</td>\n      <td>11.0</td>\n      <td>86.0</td>\n      <td>101666.0</td>\n      <td>23.0</td>\n      <td>19.0</td>\n      <td>34.0</td>\n      <td>102505.0</td>\n      <td>196.0</td>\n      <td>222.0</td>\n      <td>...</td>\n      <td>101891.0</td>\n      <td>24.0</td>\n      <td>21.0</td>\n      <td>39.0</td>\n      <td>10.0</td>\n      <td>85.0</td>\n      <td>101686.0</td>\n      <td>21.0</td>\n      <td>19.0</td>\n      <td>33.0</td>\n    </tr>\n    <tr>\n      <th>2</th>\n      <td>2017-01-01 01:00:00</td>\n      <td>11.0</td>\n      <td>86.0</td>\n      <td>101666.0</td>\n      <td>23.0</td>\n      <td>19.0</td>\n      <td>34.0</td>\n      <td>102454.0</td>\n      <td>187.0</td>\n      <td>211.0</td>\n      <td>...</td>\n      <td>101891.0</td>\n      <td>24.0</td>\n      <td>21.0</td>\n      <td>39.0</td>\n      <td>10.0</td>\n      <td>85.0</td>\n      <td>101686.0</td>\n      <td>21.0</td>\n      <td>19.0</td>\n      <td>33.0</td>\n    </tr>\n    <tr>\n      <th>3</th>\n      <td>2017-01-01 02:00:00</td>\n      <td>11.0</td>\n      <td>86.0</td>\n      <td>101666.0</td>\n      <td>23.0</td>\n      <td>19.0</td>\n      <td>34.0</td>\n      <td>102375.0</td>\n      <td>187.0</td>\n      <td>212.0</td>\n      <td>...</td>\n      <td>101891.0</td>\n      <td>24.0</td>\n      <td>21.0</td>\n      <td>39.0</td>\n      <td>10.0</td>\n      <td>85.0</td>\n      <td>101686.0</td>\n      <td>21.0</td>\n      <td>19.0</td>\n      <td>33.0</td>\n    </tr>\n    <tr>\n      <th>4</th>\n      <td>2017-01-01 03:00:00</td>\n      <td>11.0</td>\n      <td>86.0</td>\n      <td>101666.0</td>\n      <td>23.0</td>\n      <td>19.0</td>\n      <td>34.0</td>\n      <td>102322.0</td>\n      <td>167.0</td>\n      <td>188.0</td>\n      <td>...</td>\n      <td>101891.0</td>\n      <td>24.0</td>\n      <td>21.0</td>\n      <td>39.0</td>\n      <td>10.0</td>\n      <td>85.0</td>\n      <td>101686.0</td>\n      <td>21.0</td>\n      <td>19.0</td>\n      <td>33.0</td>\n    </tr>\n    <tr>\n      <th>5</th>\n      <td>2017-01-01 04:00:00</td>\n      <td>11.0</td>\n      <td>86.0</td>\n      <td>101666.0</td>\n      <td>23.0</td>\n      <td>19.0</td>\n      <td>34.0</td>\n      <td>102277.0</td>\n      <td>164.0</td>\n      <td>184.0</td>\n      <td>...</td>\n      <td>101891.0</td>\n      <td>24.0</td>\n      <td>21.0</td>\n      <td>39.0</td>\n      <td>10.0</td>\n      <td>85.0</td>\n      <td>101686.0</td>\n      <td>21.0</td>\n      <td>19.0</td>\n      <td>33.0</td>\n    </tr>\n    <tr>\n      <th>6</th>\n      <td>2017-01-01 05:00:00</td>\n      <td>11.0</td>\n      <td>86.0</td>\n      <td>101666.0</td>\n      <td>23.0</td>\n      <td>19.0</td>\n      <td>34.0</td>\n      <td>102248.0</td>\n      <td>150.0</td>\n      <td>166.0</td>\n      <td>...</td>\n      <td>101891.0</td>\n      <td>24.0</td>\n      <td>21.0</td>\n      <td>39.0</td>\n      <td>10.0</td>\n      <td>85.0</td>\n      <td>101686.0</td>\n      <td>21.0</td>\n      <td>19.0</td>\n      <td>33.0</td>\n    </tr>\n    <tr>\n      <th>7</th>\n      <td>2017-01-01 06:00:00</td>\n      <td>11.0</td>\n      <td>86.0</td>\n      <td>101666.0</td>\n      <td>23.0</td>\n      <td>19.0</td>\n      <td>34.0</td>\n      <td>102211.0</td>\n      <td>137.0</td>\n      <td>151.0</td>\n      <td>...</td>\n      <td>101891.0</td>\n      <td>24.0</td>\n      <td>21.0</td>\n      <td>39.0</td>\n      <td>10.0</td>\n      <td>85.0</td>\n      <td>101686.0</td>\n      <td>21.0</td>\n      <td>19.0</td>\n      <td>33.0</td>\n    </tr>\n    <tr>\n      <th>8</th>\n      <td>2017-01-01 07:00:00</td>\n      <td>11.0</td>\n      <td>86.0</td>\n      <td>101666.0</td>\n      <td>23.0</td>\n      <td>19.0</td>\n      <td>34.0</td>\n      <td>102204.0</td>\n      <td>122.0</td>\n      <td>132.0</td>\n      <td>...</td>\n      <td>101891.0</td>\n      <td>24.0</td>\n      <td>21.0</td>\n      <td>39.0</td>\n      <td>10.0</td>\n      <td>85.0</td>\n      <td>101686.0</td>\n      <td>21.0</td>\n      <td>19.0</td>\n      <td>33.0</td>\n    </tr>\n    <tr>\n      <th>9</th>\n      <td>2017-01-01 08:00:00</td>\n      <td>11.0</td>\n      <td>86.0</td>\n      <td>101666.0</td>\n      <td>23.0</td>\n      <td>19.0</td>\n      <td>34.0</td>\n      <td>102182.0</td>\n      <td>110.0</td>\n      <td>118.0</td>\n      <td>...</td>\n      <td>101891.0</td>\n      <td>24.0</td>\n      <td>21.0</td>\n      <td>39.0</td>\n      <td>10.0</td>\n      <td>85.0</td>\n      <td>101686.0</td>\n      <td>21.0</td>\n      <td>19.0</td>\n      <td>33.0</td>\n    </tr>\n    <tr>\n      <th>10</th>\n      <td>2017-01-01 09:00:00</td>\n      <td>11.0</td>\n      <td>86.0</td>\n      <td>101666.0</td>\n      <td>23.0</td>\n      <td>19.0</td>\n      <td>34.0</td>\n      <td>102140.0</td>\n      <td>117.0</td>\n      <td>126.0</td>\n      <td>...</td>\n      <td>101891.0</td>\n      <td>24.0</td>\n      <td>21.0</td>\n      <td>39.0</td>\n      <td>10.0</td>\n      <td>85.0</td>\n      <td>101686.0</td>\n      <td>21.0</td>\n      <td>19.0</td>\n      <td>33.0</td>\n    </tr>\n    <tr>\n      <th>11</th>\n      <td>2017-01-01 10:00:00</td>\n      <td>11.0</td>\n      <td>86.0</td>\n      <td>101666.0</td>\n      <td>23.0</td>\n      <td>19.0</td>\n      <td>34.0</td>\n      <td>102043.0</td>\n      <td>102.0</td>\n      <td>108.0</td>\n      <td>...</td>\n      <td>101891.0</td>\n      <td>24.0</td>\n      <td>21.0</td>\n      <td>39.0</td>\n      <td>10.0</td>\n      <td>85.0</td>\n      <td>101686.0</td>\n      <td>21.0</td>\n      <td>19.0</td>\n      <td>33.0</td>\n    </tr>\n    <tr>\n      <th>12</th>\n      <td>2017-01-01 11:00:00</td>\n      <td>11.0</td>\n      <td>86.0</td>\n      <td>101666.0</td>\n      <td>23.0</td>\n      <td>19.0</td>\n      <td>34.0</td>\n      <td>101961.0</td>\n      <td>85.0</td>\n      <td>90.0</td>\n      <td>...</td>\n      <td>101891.0</td>\n      <td>24.0</td>\n      <td>21.0</td>\n      <td>39.0</td>\n      <td>10.0</td>\n      <td>85.0</td>\n      <td>101686.0</td>\n      <td>21.0</td>\n      <td>19.0</td>\n      <td>33.0</td>\n    </tr>\n    <tr>\n      <th>13</th>\n      <td>2017-01-01 12:00:00</td>\n      <td>11.0</td>\n      <td>86.0</td>\n      <td>101666.0</td>\n      <td>23.0</td>\n      <td>19.0</td>\n      <td>34.0</td>\n      <td>101895.0</td>\n      <td>74.0</td>\n      <td>76.0</td>\n      <td>...</td>\n      <td>101891.0</td>\n      <td>24.0</td>\n      <td>21.0</td>\n      <td>39.0</td>\n      <td>10.0</td>\n      <td>85.0</td>\n      <td>101686.0</td>\n      <td>21.0</td>\n      <td>19.0</td>\n      <td>33.0</td>\n    </tr>\n    <tr>\n      <th>14</th>\n      <td>2017-01-01 13:00:00</td>\n      <td>11.0</td>\n      <td>86.0</td>\n      <td>101666.0</td>\n      <td>23.0</td>\n      <td>19.0</td>\n      <td>34.0</td>\n      <td>101865.0</td>\n      <td>76.0</td>\n      <td>78.0</td>\n      <td>...</td>\n      <td>101891.0</td>\n      <td>24.0</td>\n      <td>21.0</td>\n      <td>39.0</td>\n      <td>10.0</td>\n      <td>85.0</td>\n      <td>101686.0</td>\n      <td>21.0</td>\n      <td>19.0</td>\n      <td>33.0</td>\n    </tr>\n    <tr>\n      <th>15</th>\n      <td>2017-01-01 14:00:00</td>\n      <td>11.0</td>\n      <td>86.0</td>\n      <td>101666.0</td>\n      <td>23.0</td>\n      <td>19.0</td>\n      <td>34.0</td>\n      <td>101838.0</td>\n      <td>86.0</td>\n      <td>90.0</td>\n      <td>...</td>\n      <td>101891.0</td>\n      <td>24.0</td>\n      <td>21.0</td>\n      <td>39.0</td>\n      <td>10.0</td>\n      <td>85.0</td>\n      <td>101686.0</td>\n      <td>21.0</td>\n      <td>19.0</td>\n      <td>33.0</td>\n    </tr>\n    <tr>\n      <th>16</th>\n      <td>2017-01-01 15:00:00</td>\n      <td>11.0</td>\n      <td>86.0</td>\n      <td>101666.0</td>\n      <td>23.0</td>\n      <td>19.0</td>\n      <td>34.0</td>\n      <td>101789.0</td>\n      <td>100.0</td>\n      <td>105.0</td>\n      <td>...</td>\n      <td>101891.0</td>\n      <td>24.0</td>\n      <td>21.0</td>\n      <td>39.0</td>\n      <td>10.0</td>\n      <td>85.0</td>\n      <td>101686.0</td>\n      <td>21.0</td>\n      <td>19.0</td>\n      <td>33.0</td>\n    </tr>\n    <tr>\n      <th>17</th>\n      <td>2017-01-01 16:00:00</td>\n      <td>11.0</td>\n      <td>86.0</td>\n      <td>101666.0</td>\n      <td>23.0</td>\n      <td>19.0</td>\n      <td>34.0</td>\n      <td>101768.0</td>\n      <td>116.0</td>\n      <td>125.0</td>\n      <td>...</td>\n      <td>101891.0</td>\n      <td>24.0</td>\n      <td>21.0</td>\n      <td>39.0</td>\n      <td>10.0</td>\n      <td>85.0</td>\n      <td>101686.0</td>\n      <td>21.0</td>\n      <td>19.0</td>\n      <td>33.0</td>\n    </tr>\n    <tr>\n      <th>18</th>\n      <td>2017-01-01 17:00:00</td>\n      <td>11.0</td>\n      <td>86.0</td>\n      <td>101666.0</td>\n      <td>23.0</td>\n      <td>19.0</td>\n      <td>34.0</td>\n      <td>101766.0</td>\n      <td>152.0</td>\n      <td>166.0</td>\n      <td>...</td>\n      <td>101891.0</td>\n      <td>24.0</td>\n      <td>21.0</td>\n      <td>39.0</td>\n      <td>10.0</td>\n      <td>85.0</td>\n      <td>101686.0</td>\n      <td>21.0</td>\n      <td>19.0</td>\n      <td>33.0</td>\n    </tr>\n    <tr>\n      <th>19</th>\n      <td>2017-01-01 18:00:00</td>\n      <td>11.0</td>\n      <td>86.0</td>\n      <td>101666.0</td>\n      <td>23.0</td>\n      <td>19.0</td>\n      <td>34.0</td>\n      <td>101756.0</td>\n      <td>184.0</td>\n      <td>204.0</td>\n      <td>...</td>\n      <td>101891.0</td>\n      <td>24.0</td>\n      <td>21.0</td>\n      <td>39.0</td>\n      <td>10.0</td>\n      <td>85.0</td>\n      <td>101686.0</td>\n      <td>21.0</td>\n      <td>19.0</td>\n      <td>33.0</td>\n    </tr>\n    <tr>\n      <th>20</th>\n      <td>2017-01-01 19:00:00</td>\n      <td>11.0</td>\n      <td>86.0</td>\n      <td>101666.0</td>\n      <td>23.0</td>\n      <td>19.0</td>\n      <td>34.0</td>\n      <td>101742.0</td>\n      <td>191.0</td>\n      <td>216.0</td>\n      <td>...</td>\n      <td>101891.0</td>\n      <td>24.0</td>\n      <td>21.0</td>\n      <td>39.0</td>\n      <td>10.0</td>\n      <td>85.0</td>\n      <td>101686.0</td>\n      <td>21.0</td>\n      <td>19.0</td>\n      <td>33.0</td>\n    </tr>\n    <tr>\n      <th>21</th>\n      <td>2017-01-01 20:00:00</td>\n      <td>11.0</td>\n      <td>86.0</td>\n      <td>101666.0</td>\n      <td>23.0</td>\n      <td>19.0</td>\n      <td>34.0</td>\n      <td>101712.0</td>\n      <td>148.0</td>\n      <td>164.0</td>\n      <td>...</td>\n      <td>101891.0</td>\n      <td>24.0</td>\n      <td>21.0</td>\n      <td>39.0</td>\n      <td>10.0</td>\n      <td>85.0</td>\n      <td>101686.0</td>\n      <td>21.0</td>\n      <td>19.0</td>\n      <td>33.0</td>\n    </tr>\n    <tr>\n      <th>22</th>\n      <td>2017-01-01 21:00:00</td>\n      <td>11.0</td>\n      <td>86.0</td>\n      <td>101666.0</td>\n      <td>23.0</td>\n      <td>19.0</td>\n      <td>34.0</td>\n      <td>101669.0</td>\n      <td>127.0</td>\n      <td>139.0</td>\n      <td>...</td>\n      <td>101891.0</td>\n      <td>24.0</td>\n      <td>21.0</td>\n      <td>39.0</td>\n      <td>10.0</td>\n      <td>85.0</td>\n      <td>101686.0</td>\n      <td>21.0</td>\n      <td>19.0</td>\n      <td>33.0</td>\n    </tr>\n    <tr>\n      <th>23</th>\n      <td>2017-01-01 22:00:00</td>\n      <td>11.0</td>\n      <td>86.0</td>\n      <td>101666.0</td>\n      <td>23.0</td>\n      <td>19.0</td>\n      <td>34.0</td>\n      <td>101622.0</td>\n      <td>137.0</td>\n      <td>151.0</td>\n      <td>...</td>\n      <td>101891.0</td>\n      <td>24.0</td>\n      <td>21.0</td>\n      <td>39.0</td>\n      <td>10.0</td>\n      <td>85.0</td>\n      <td>101686.0</td>\n      <td>21.0</td>\n      <td>19.0</td>\n      <td>33.0</td>\n    </tr>\n    <tr>\n      <th>24</th>\n      <td>2017-01-01 23:00:00</td>\n      <td>11.0</td>\n      <td>86.0</td>\n      <td>101666.0</td>\n      <td>23.0</td>\n      <td>19.0</td>\n      <td>34.0</td>\n      <td>101571.0</td>\n      <td>144.0</td>\n      <td>160.0</td>\n      <td>...</td>\n      <td>101891.0</td>\n      <td>24.0</td>\n      <td>21.0</td>\n      <td>39.0</td>\n      <td>10.0</td>\n      <td>85.0</td>\n      <td>101686.0</td>\n      <td>21.0</td>\n      <td>19.0</td>\n      <td>33.0</td>\n    </tr>\n    <tr>\n      <th>25</th>\n      <td>2017-01-02 00:00:00</td>\n      <td>11.0</td>\n      <td>86.0</td>\n      <td>101666.0</td>\n      <td>23.0</td>\n      <td>19.0</td>\n      <td>34.0</td>\n      <td>101516.0</td>\n      <td>117.0</td>\n      <td>127.0</td>\n      <td>...</td>\n      <td>101891.0</td>\n      <td>24.0</td>\n      <td>21.0</td>\n      <td>39.0</td>\n      <td>10.0</td>\n      <td>85.0</td>\n      <td>101686.0</td>\n      <td>21.0</td>\n      <td>19.0</td>\n      <td>33.0</td>\n    </tr>\n    <tr>\n      <th>26</th>\n      <td>2017-01-02 01:00:00</td>\n      <td>11.0</td>\n      <td>86.0</td>\n      <td>101666.0</td>\n      <td>23.0</td>\n      <td>19.0</td>\n      <td>34.0</td>\n      <td>101478.0</td>\n      <td>121.0</td>\n      <td>132.0</td>\n      <td>...</td>\n      <td>101891.0</td>\n      <td>24.0</td>\n      <td>21.0</td>\n      <td>39.0</td>\n      <td>10.0</td>\n      <td>85.0</td>\n      <td>101686.0</td>\n      <td>21.0</td>\n      <td>19.0</td>\n      <td>33.0</td>\n    </tr>\n    <tr>\n      <th>27</th>\n      <td>2017-01-02 02:00:00</td>\n      <td>11.0</td>\n      <td>86.0</td>\n      <td>101666.0</td>\n      <td>23.0</td>\n      <td>19.0</td>\n      <td>34.0</td>\n      <td>101425.0</td>\n      <td>121.0</td>\n      <td>133.0</td>\n      <td>...</td>\n      <td>101891.0</td>\n      <td>24.0</td>\n      <td>21.0</td>\n      <td>39.0</td>\n      <td>10.0</td>\n      <td>85.0</td>\n      <td>101686.0</td>\n      <td>21.0</td>\n      <td>19.0</td>\n      <td>33.0</td>\n    </tr>\n    <tr>\n      <th>28</th>\n      <td>2017-01-02 03:00:00</td>\n      <td>11.0</td>\n      <td>86.0</td>\n      <td>101666.0</td>\n      <td>23.0</td>\n      <td>19.0</td>\n      <td>34.0</td>\n      <td>101374.0</td>\n      <td>120.0</td>\n      <td>131.0</td>\n      <td>...</td>\n      <td>101891.0</td>\n      <td>24.0</td>\n      <td>21.0</td>\n      <td>39.0</td>\n      <td>10.0</td>\n      <td>85.0</td>\n      <td>101686.0</td>\n      <td>21.0</td>\n      <td>19.0</td>\n      <td>33.0</td>\n    </tr>\n    <tr>\n      <th>29</th>\n      <td>2017-01-02 04:00:00</td>\n      <td>11.0</td>\n      <td>86.0</td>\n      <td>101666.0</td>\n      <td>23.0</td>\n      <td>19.0</td>\n      <td>34.0</td>\n      <td>101342.0</td>\n      <td>126.0</td>\n      <td>139.0</td>\n      <td>...</td>\n      <td>101891.0</td>\n      <td>24.0</td>\n      <td>21.0</td>\n      <td>39.0</td>\n      <td>10.0</td>\n      <td>85.0</td>\n      <td>101686.0</td>\n      <td>21.0</td>\n      <td>19.0</td>\n      <td>33.0</td>\n    </tr>\n    <tr>\n      <th>30</th>\n      <td>2017-01-02 05:00:00</td>\n      <td>11.0</td>\n      <td>86.0</td>\n      <td>101666.0</td>\n      <td>23.0</td>\n      <td>19.0</td>\n      <td>34.0</td>\n      <td>101335.0</td>\n      <td>109.0</td>\n      <td>117.0</td>\n      <td>...</td>\n      <td>101891.0</td>\n      <td>24.0</td>\n      <td>21.0</td>\n      <td>39.0</td>\n      <td>10.0</td>\n      <td>85.0</td>\n      <td>101686.0</td>\n      <td>21.0</td>\n      <td>19.0</td>\n      <td>33.0</td>\n    </tr>\n  </tbody>\n</table>\n<p>30 rows × 266 columns</p>\n</div>"
     },
     "execution_count": 17,
     "metadata": {},
     "output_type": "execute_result"
    }
   ],
   "source": [
    "air_quality = pd.concat([air_quality['UTC time'], air_quality_transformed], axis = 1)\n",
    "air_quality.head(30)"
   ],
   "metadata": {
    "collapsed": false,
    "pycharm": {
     "name": "#%%\n"
    }
   }
  },
  {
   "cell_type": "markdown",
   "source": [
    "#### Descriptive statistics of target variable"
   ],
   "metadata": {
    "collapsed": false,
    "pycharm": {
     "name": "#%% md\n"
    }
   }
  },
  {
   "cell_type": "code",
   "execution_count": 18,
   "outputs": [
    {
     "data": {
      "text/plain": "count    8593.00\nmean       49.56\nstd        55.84\nmin         0.00\n25%        16.00\n50%        32.00\n75%        60.00\nmax       451.00\nName: 171_pm10, dtype: float64"
     },
     "execution_count": 18,
     "metadata": {},
     "output_type": "execute_result"
    }
   ],
   "source": [
    "air_quality['171_pm10'].describe().round(2)"
   ],
   "metadata": {
    "collapsed": false,
    "pycharm": {
     "name": "#%%\n"
    }
   }
  },
  {
   "cell_type": "code",
   "execution_count": 20,
   "outputs": [
    {
     "data": {
      "text/plain": "10.957043055515772"
     },
     "execution_count": 20,
     "metadata": {},
     "output_type": "execute_result"
    }
   ],
   "source": [
    "air_quality['171_pm10'].kurtosis(axis = 0)"
   ],
   "metadata": {
    "collapsed": false,
    "pycharm": {
     "name": "#%%\n"
    }
   }
  },
  {
   "cell_type": "code",
   "execution_count": 21,
   "outputs": [
    {
     "data": {
      "text/plain": "2.9270613747578342"
     },
     "execution_count": 21,
     "metadata": {},
     "output_type": "execute_result"
    }
   ],
   "source": [
    "air_quality['171_pm10'].skew(axis = 0)"
   ],
   "metadata": {
    "collapsed": false,
    "pycharm": {
     "name": "#%%\n"
    }
   }
  },
  {
   "cell_type": "markdown",
   "source": [
    "Conclusions:\n",
    "\n",
    "- kurtosis is enormous so we have values focusing around mean\n",
    "- skewness is greater than 0 so the mass of the distribution is concentrated on the left\n",
    "- certainly distribution is not normal"
   ],
   "metadata": {
    "collapsed": false,
    "pycharm": {
     "name": "#%% md\n"
    }
   }
  },
  {
   "cell_type": "code",
   "execution_count": 70,
   "outputs": [
    {
     "data": {
      "text/plain": "<Figure size 432x288 with 1 Axes>",
      "image/png": "[encoded data removed]"
     },
     "metadata": {
      "needs_background": "light"
     },
     "output_type": "display_data"
    }
   ],
   "source": [
    "plt.hist(air_quality['171_pm10'], color = 'orange', bins = 15, edgecolor = 'black')\n",
    "plt.title(\"Histogram of PM10 levels near sensor 171\")\n",
    "plt.ylabel(\"PM10 levels\")\n",
    "#plt.rcParams[\"figure.figsize\"] = (8,6)\n",
    "plt.show()"
   ],
   "metadata": {
    "collapsed": false,
    "pycharm": {
     "name": "#%%\n"
    }
   }
  },
  {
   "cell_type": "code",
   "execution_count": 52,
   "outputs": [
    {
     "data": {
      "text/plain": "<Figure size 432x288 with 1 Axes>",
      "image/png": "[encoded data removed]"
     },
     "metadata": {
      "needs_background": "light"
     },
     "output_type": "display_data"
    }
   ],
   "source": [
    "plt.boxplot(air_quality['171_pm10'])\n",
    "plt.title(\"Box plot of PM10 levels near sensor 171\")\n",
    "plt.ylabel(\"PM10 levels\")\n",
    "plt.show()"
   ],
   "metadata": {
    "collapsed": false,
    "pycharm": {
     "name": "#%%\n"
    }
   }
  },
  {
   "cell_type": "code",
   "execution_count": 69,
   "outputs": [
    {
     "data": {
      "text/plain": "<Figure size 432x288 with 1 Axes>",
      "image/png": "[encoded data removed]"
     },
     "metadata": {
      "needs_background": "light"
     },
     "output_type": "display_data"
    }
   ],
   "source": [
    "import seaborn as sns\n",
    "\n",
    "sns.kdeplot(data=air_quality['171_pm10'], fill = True, color = 'orange')\n",
    "plt.title(\"Kernel density estimator of PM10 levels near sensor 171\")\n",
    "plt.show()"
   ],
   "metadata": {
    "collapsed": false,
    "pycharm": {
     "name": "#%%\n"
    }
   }
  },
  {
   "cell_type": "markdown",
   "source": [
    "#### Outlier detection"
   ],
   "metadata": {
    "collapsed": false,
    "pycharm": {
     "name": "#%% md\n"
    }
   }
  },
  {
   "cell_type": "markdown",
   "source": [
    "IQR method will be my choice for outliers removal, because I think that it's safe for this distribution of data (not normal)."
   ],
   "metadata": {
    "collapsed": false,
    "pycharm": {
     "name": "#%% md\n"
    }
   }
  },
  {
   "cell_type": "code",
   "execution_count": 76,
   "outputs": [
    {
     "name": "stdout",
     "output_type": "stream",
     "text": [
      "265 outliers removed\n"
     ]
    }
   ],
   "source": [
    "def is_outlier_iqr(dt, feature):\n",
    "    q1 = dt.quantile(.25)[feature]\n",
    "    q3 = dt.quantile(.75)[feature]\n",
    "    iqr = round(q3 - q1, 2)\n",
    "    higher_boundary = q3 + 1.5 * iqr\n",
    "    lower_boundary = q1 - 1.5 * iqr\n",
    "    df_out = dt.loc[(dt[feature] > lower_boundary) & (dt[feature] < higher_boundary)]\n",
    "    return df_out\n",
    "\n",
    "count = 0\n",
    "columns = air_quality.columns.drop('UTC time')\n",
    "for feature in columns:\n",
    "    air_quality = is_outlier_iqr(air_quality, feature)\n",
    "    count += 1\n",
    "print(\"{} outliers removed\".format(count))"
   ],
   "metadata": {
    "collapsed": false,
    "pycharm": {
     "name": "#%%\n"
    }
   }
  }
 ],
 "metadata": {
  "kernelspec": {
   "display_name": "Python 3",
   "language": "python",
   "name": "python3"
  },
  "language_info": {
   "codemirror_mode": {
    "name": "ipython",
    "version": 2
   },
   "file_extension": ".py",
   "mimetype": "text/x-python",
   "name": "python",
   "nbconvert_exporter": "python",
   "pygments_lexer": "ipython2",
   "version": "2.7.6"
  }
 },
 "nbformat": 4,
 "nbformat_minor": 0
}